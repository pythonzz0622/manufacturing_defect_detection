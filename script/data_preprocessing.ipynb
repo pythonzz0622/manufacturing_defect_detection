{
 "cells": [
  {
   "cell_type": "code",
   "execution_count": 2,
   "metadata": {},
   "outputs": [],
   "source": [
    "import os \n",
    "import numpy as np\n",
    "import shutil\n",
    "import cv2\n",
    "import json\n",
    "import glob\n",
    "import matplotlib.pyplot as plt\n",
    "import pandas as pd\n",
    "import warnings\n",
    "warnings.filterwarnings(action= 'ignore')"
   ]
  },
  {
   "cell_type": "code",
   "execution_count": 36,
   "metadata": {},
   "outputs": [],
   "source": [
    "# img path, labeling path 불러오기\n",
    "img_path_list = glob.glob('../original_dataset/**/CAM1/*')\n",
    "label_path_list = glob.glob('../original_dataset/**/label/*')"
   ]
  },
  {
   "cell_type": "code",
   "execution_count": 37,
   "metadata": {},
   "outputs": [
    {
     "data": {
      "text/plain": [
       "0"
      ]
     },
     "execution_count": 37,
     "metadata": {},
     "output_type": "execute_result"
    }
   ],
   "source": [
    "# json 아닌 label\n",
    "sum([x.split('.')[-1] != 'json' for x in label_path_list])"
   ]
  },
  {
   "cell_type": "code",
   "execution_count": 8,
   "metadata": {},
   "outputs": [],
   "source": [
    "def js_to_img(data_path):\n",
    "    data_path = data_path.replace('label' , 'CAM1').replace('json' , 'jpg')\n",
    "    return data_path"
   ]
  },
  {
   "cell_type": "code",
   "execution_count": 38,
   "metadata": {},
   "outputs": [
    {
     "name": "stdout",
     "output_type": "stream",
     "text": [
      "img 개수 : 31193\n",
      "label 개수 : 438\n",
      "defect ratio : 1.4%\n"
     ]
    }
   ],
   "source": [
    "print('img 개수 :', len(img_path_list))\n",
    "print('label 개수 :', len(label_path_list))\n",
    "print('defect ratio :' ,  str(round((len(label_path_list) / len(img_path_list)) * 100 , 2)) +'%' )"
   ]
  },
  {
   "cell_type": "code",
   "execution_count": 41,
   "metadata": {},
   "outputs": [],
   "source": [
    "# # make folder\n",
    "# os.makedirs('../dataset/' , exist_ok= True)\n",
    "# os.makedirs('../dataset/normal' , exist_ok= True)\n",
    "# os.makedirs('../dataset/defect' , exist_ok= True)\n",
    "# os.makedirs('../dataset/label' , exist_ok= True)"
   ]
  },
  {
   "cell_type": "code",
   "execution_count": 47,
   "metadata": {},
   "outputs": [],
   "source": [
    "# # move defect json file & defect img file\n",
    "# for label_path in label_path_list:\n",
    "#     defect_img_path = js_to_img(label_path)\n",
    "#     shutil.move(defect_img_path , '../dataset/defect/' + os.path.basename(defect_img_path)  )\n",
    "#     shutil.move(label_path , '../dataset/label/' + os.path.basename(label_path)  )\n",
    "\n",
    "# # move remian normal img file\n",
    "# remain_img_path_list = glob.glob('../original_dataset/**/CAM1/*')\n",
    "# for remain_img_path in remain_img_path_list:\n",
    "#     shutil.move(remain_img_path , '../dataset/normal/' + os.path.basename(remain_img_path)  )"
   ]
  },
  {
   "cell_type": "code",
   "execution_count": 3,
   "metadata": {},
   "outputs": [],
   "source": [
    "label_path_list = glob.glob('../dataset/label/*')\n",
    "# make img dataframe\n",
    "df_img = pd.DataFrame(\n",
    "    columns=['id', 'file_name', 'RESOLUTION', 'width', 'height'])\n",
    "\n",
    "# make box object dataframe\n",
    "df_obj = pd.DataFrame(columns=['id', 'category_id', 'bbox', 'image_id'])\n",
    "\n",
    "obj_idx = 1\n",
    "for idx, label_path in enumerate(label_path_list, start=1):\n",
    "    # json to img file path\n",
    "    img_path = label_path.replace('label', 'defect').replace('json', 'jpg')\n",
    "\n",
    "    # load json file\n",
    "    with open(label_path, 'r') as file:\n",
    "        json_file = json.load(file)\n",
    "    img = cv2.imread(img_path, cv2.IMREAD_GRAYSCALE)\n",
    "\n",
    "    height, width = img.shape\n",
    "    RESOLUTION = int(height * width)\n",
    "    file_name = img_path\n",
    "\n",
    "    df_img = df_img.append(\n",
    "        {'id': idx,\n",
    "            'file_name': file_name,\n",
    "         'RESOLUTION': RESOLUTION,\n",
    "         'height': height,\n",
    "         'width': width},\n",
    "        ignore_index=True\n",
    "    )\n",
    "\n",
    "    # get object\n",
    "    obj_list = json_file[0]['annotations']\n",
    "    for obj in obj_list:\n",
    "        category = obj['label']\n",
    "        bbox = {k: int(v) for k, v in obj['coordinates'].items()}\n",
    "        bbox = list(bbox.values())\n",
    "        df_obj = df_obj.append(\n",
    "            {'id': obj_idx,\n",
    "             'category_id': category,\n",
    "             'bbox': bbox,\n",
    "             'image_id': idx}, ignore_index=True\n",
    "        )\n",
    "        obj_idx += 1\n"
   ]
  },
  {
   "cell_type": "code",
   "execution_count": 4,
   "metadata": {},
   "outputs": [],
   "source": [
    "\n",
    "normal_data_list = glob.glob('../dataset/normal/*')\n",
    "normal_img_id = np.arange(372,len(normal_data_list)+372)\n",
    "df_normal_img = pd.DataFrame({'id' : normal_img_id , 'file_name' : normal_data_list} )\n",
    "df_normal_img['RESOLUTION'] = 467264\n",
    "df_normal_img['width'] = 784\n",
    "df_normal_img['height'] = 596"
   ]
  },
  {
   "cell_type": "code",
   "execution_count": 5,
   "metadata": {},
   "outputs": [],
   "source": [
    "df_normal_img = df_normal_img.iloc[np.random.choice(df_normal_img.index , 2000)]"
   ]
  },
  {
   "cell_type": "code",
   "execution_count": 6,
   "metadata": {},
   "outputs": [],
   "source": [
    "df_img = pd.concat([df_img,df_normal_img] , axis = 0)"
   ]
  },
  {
   "cell_type": "code",
   "execution_count": 7,
   "metadata": {},
   "outputs": [],
   "source": [
    "df_img['file_name']= df_img['file_name'].apply(lambda x : x.replace('../dataset/' , ''))"
   ]
  },
  {
   "cell_type": "code",
   "execution_count": 8,
   "metadata": {},
   "outputs": [
    {
     "data": {
      "text/html": [
       "<div>\n",
       "<style scoped>\n",
       "    .dataframe tbody tr th:only-of-type {\n",
       "        vertical-align: middle;\n",
       "    }\n",
       "\n",
       "    .dataframe tbody tr th {\n",
       "        vertical-align: top;\n",
       "    }\n",
       "\n",
       "    .dataframe thead th {\n",
       "        text-align: right;\n",
       "    }\n",
       "</style>\n",
       "<table border=\"1\" class=\"dataframe\">\n",
       "  <thead>\n",
       "    <tr style=\"text-align: right;\">\n",
       "      <th></th>\n",
       "      <th>id</th>\n",
       "      <th>file_name</th>\n",
       "      <th>RESOLUTION</th>\n",
       "      <th>width</th>\n",
       "      <th>height</th>\n",
       "    </tr>\n",
       "  </thead>\n",
       "  <tbody>\n",
       "    <tr>\n",
       "      <th>26555</th>\n",
       "      <td>26927</td>\n",
       "      <td>normal/221222_155410_0000029327_CAM1_NORMAL_OK...</td>\n",
       "      <td>467264</td>\n",
       "      <td>784</td>\n",
       "      <td>596</td>\n",
       "    </tr>\n",
       "    <tr>\n",
       "      <th>11458</th>\n",
       "      <td>11830</td>\n",
       "      <td>normal/221222_094123_0000027968_CAM1_NORMAL_OK...</td>\n",
       "      <td>467264</td>\n",
       "      <td>784</td>\n",
       "      <td>596</td>\n",
       "    </tr>\n",
       "    <tr>\n",
       "      <th>18223</th>\n",
       "      <td>18595</td>\n",
       "      <td>normal/221205_145941_0000004137_CAM1_NORMAL_OK...</td>\n",
       "      <td>467264</td>\n",
       "      <td>784</td>\n",
       "      <td>596</td>\n",
       "    </tr>\n",
       "    <tr>\n",
       "      <th>10425</th>\n",
       "      <td>10797</td>\n",
       "      <td>normal/221206_143911_0000005726_CAM1_NORMAL_OK...</td>\n",
       "      <td>467264</td>\n",
       "      <td>784</td>\n",
       "      <td>596</td>\n",
       "    </tr>\n",
       "    <tr>\n",
       "      <th>12272</th>\n",
       "      <td>12644</td>\n",
       "      <td>normal/221202_142259_0000001981_CAM1_NORMAL_OK...</td>\n",
       "      <td>467264</td>\n",
       "      <td>784</td>\n",
       "      <td>596</td>\n",
       "    </tr>\n",
       "  </tbody>\n",
       "</table>\n",
       "</div>"
      ],
      "text/plain": [
       "          id                                          file_name RESOLUTION  \\\n",
       "26555  26927  normal/221222_155410_0000029327_CAM1_NORMAL_OK...     467264   \n",
       "11458  11830  normal/221222_094123_0000027968_CAM1_NORMAL_OK...     467264   \n",
       "18223  18595  normal/221205_145941_0000004137_CAM1_NORMAL_OK...     467264   \n",
       "10425  10797  normal/221206_143911_0000005726_CAM1_NORMAL_OK...     467264   \n",
       "12272  12644  normal/221202_142259_0000001981_CAM1_NORMAL_OK...     467264   \n",
       "\n",
       "      width height  \n",
       "26555   784    596  \n",
       "11458   784    596  \n",
       "18223   784    596  \n",
       "10425   784    596  \n",
       "12272   784    596  "
      ]
     },
     "execution_count": 8,
     "metadata": {},
     "output_type": "execute_result"
    }
   ],
   "source": [
    "df_img.tail()"
   ]
  },
  {
   "cell_type": "code",
   "execution_count": 9,
   "metadata": {},
   "outputs": [
    {
     "data": {
      "text/html": [
       "<div>\n",
       "<style scoped>\n",
       "    .dataframe tbody tr th:only-of-type {\n",
       "        vertical-align: middle;\n",
       "    }\n",
       "\n",
       "    .dataframe tbody tr th {\n",
       "        vertical-align: top;\n",
       "    }\n",
       "\n",
       "    .dataframe thead th {\n",
       "        text-align: right;\n",
       "    }\n",
       "</style>\n",
       "<table border=\"1\" class=\"dataframe\">\n",
       "  <thead>\n",
       "    <tr style=\"text-align: right;\">\n",
       "      <th></th>\n",
       "      <th>id</th>\n",
       "      <th>category_id</th>\n",
       "      <th>bbox</th>\n",
       "      <th>image_id</th>\n",
       "    </tr>\n",
       "  </thead>\n",
       "  <tbody>\n",
       "    <tr>\n",
       "      <th>396</th>\n",
       "      <td>397</td>\n",
       "      <td>over</td>\n",
       "      <td>[323, 287, 42, 42]</td>\n",
       "      <td>368</td>\n",
       "    </tr>\n",
       "    <tr>\n",
       "      <th>397</th>\n",
       "      <td>398</td>\n",
       "      <td>over</td>\n",
       "      <td>[366, 303, 42, 28]</td>\n",
       "      <td>368</td>\n",
       "    </tr>\n",
       "    <tr>\n",
       "      <th>398</th>\n",
       "      <td>399</td>\n",
       "      <td>under</td>\n",
       "      <td>[393, 259, 187, 111]</td>\n",
       "      <td>369</td>\n",
       "    </tr>\n",
       "    <tr>\n",
       "      <th>399</th>\n",
       "      <td>400</td>\n",
       "      <td>under</td>\n",
       "      <td>[390, 256, 175, 129]</td>\n",
       "      <td>370</td>\n",
       "    </tr>\n",
       "    <tr>\n",
       "      <th>400</th>\n",
       "      <td>401</td>\n",
       "      <td>over</td>\n",
       "      <td>[311, 268, 43, 65]</td>\n",
       "      <td>371</td>\n",
       "    </tr>\n",
       "  </tbody>\n",
       "</table>\n",
       "</div>"
      ],
      "text/plain": [
       "      id category_id                  bbox image_id\n",
       "396  397        over    [323, 287, 42, 42]      368\n",
       "397  398        over    [366, 303, 42, 28]      368\n",
       "398  399       under  [393, 259, 187, 111]      369\n",
       "399  400       under  [390, 256, 175, 129]      370\n",
       "400  401        over    [311, 268, 43, 65]      371"
      ]
     },
     "execution_count": 9,
     "metadata": {},
     "output_type": "execute_result"
    }
   ],
   "source": [
    "df_obj.tail()"
   ]
  },
  {
   "cell_type": "code",
   "execution_count": 13,
   "metadata": {},
   "outputs": [],
   "source": [
    "def yolo_to_coco(anno):\n",
    "    x ,y , w, h = anno\n",
    "    x1 , y1 = x - (w // 2) , y - (h //2)\n",
    "    return [x1 ,y1 , w ,h ]\n"
   ]
  },
  {
   "cell_type": "code",
   "execution_count": 15,
   "metadata": {},
   "outputs": [],
   "source": [
    "df_obj['bbox'] = df_obj['bbox'].apply(lambda x : yolo_to_coco(x))"
   ]
  },
  {
   "cell_type": "code",
   "execution_count": 16,
   "metadata": {},
   "outputs": [],
   "source": [
    "df_obj['area'] = df_obj['bbox'].apply(lambda x : x[2] * x[3])"
   ]
  },
  {
   "cell_type": "code",
   "execution_count": 17,
   "metadata": {},
   "outputs": [
    {
     "data": {
      "text/plain": [
       "over           233\n",
       "under          153\n",
       "non-welding     15\n",
       "Name: category_id, dtype: int64"
      ]
     },
     "execution_count": 17,
     "metadata": {},
     "output_type": "execute_result"
    }
   ],
   "source": [
    "df_obj['category_id'].value_counts()"
   ]
  },
  {
   "cell_type": "code",
   "execution_count": 18,
   "metadata": {},
   "outputs": [],
   "source": [
    "category_to_id = {'over' : 1 , \n",
    " 'under' : 2 , \n",
    " 'non-welding' : 3}\n",
    "\n",
    "df_obj['category_id'] = df_obj['category_id'].apply(lambda x : category_to_id[x])\n",
    "df_obj['iscrowd'] = 0"
   ]
  },
  {
   "cell_type": "code",
   "execution_count": 19,
   "metadata": {},
   "outputs": [],
   "source": [
    "df_img.to_csv('../info/df_img.csv' , index = False)\n",
    "df_obj.to_csv('../info/df_obj.csv' , index = False)"
   ]
  },
  {
   "cell_type": "code",
   "execution_count": 20,
   "metadata": {},
   "outputs": [],
   "source": [
    "# cvt COCO\n",
    "df_coco = {}\n",
    "df_coco['images'] = df_img.to_dict('records')\n",
    "df_coco['annotations']= df_obj.to_dict('records')\n",
    "df_coco['categories'] = [{'id': category_to_id['over'] , 'name': 'over', 'supercategory': 'defect'},\n",
    "                         {'id': category_to_id['under'], 'name': 'under', 'supercategory': 'defect'},\n",
    "                        {'id': category_to_id['non-welding'], 'name': 'non-welding', 'supercategory': 'defect'}]\n"
   ]
  },
  {
   "cell_type": "code",
   "execution_count": 21,
   "metadata": {},
   "outputs": [],
   "source": [
    "with open(\"../info/coco.json\", \"w\") as json_file:\n",
    "    json.dump(df_coco, json_file , indent = 4)"
   ]
  }
 ],
 "metadata": {
  "kernelspec": {
   "display_name": "Python 3",
   "language": "python",
   "name": "python3"
  },
  "language_info": {
   "codemirror_mode": {
    "name": "ipython",
    "version": 3
   },
   "file_extension": ".py",
   "mimetype": "text/x-python",
   "name": "python",
   "nbconvert_exporter": "python",
   "pygments_lexer": "ipython3",
   "version": "3.8.10"
  },
  "orig_nbformat": 4,
  "vscode": {
   "interpreter": {
    "hash": "31f2aee4e71d21fbe5cf8b01ff0e069b9275f58929596ceb00d14d90e3e16cd6"
   }
  }
 },
 "nbformat": 4,
 "nbformat_minor": 2
}
