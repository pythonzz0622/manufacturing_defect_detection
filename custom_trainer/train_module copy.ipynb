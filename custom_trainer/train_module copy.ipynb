{
 "cells": [
  {
   "cell_type": "code",
   "execution_count": 138,
   "metadata": {},
   "outputs": [],
   "source": [
    "from custom_dataloader import import_data_loader\n",
    "import custom_dataloader\n",
    "from custom_model import retina_fpn_swin_l\n",
    "import albumentations as A\n",
    "from albumentations.pytorch import ToTensorV2\n",
    "import torch.optim as optim\n",
    "import torch.nn as nn\n",
    "from torchvision.ops import focal_loss\n",
    "import torch\n",
    "import matplotlib.pyplot as plt\n",
    "import numpy as np \n",
    "import cv2"
   ]
  },
  {
   "cell_type": "code",
   "execution_count": 2,
   "metadata": {},
   "outputs": [],
   "source": [
    "mean=(0.485, 0.456, 0.406)\n",
    "std=(0.229, 0.224, 0.225)\n",
    "transformer = A.Compose([\n",
    "    A.Resize(512, 512),\n",
    "    A.Flip(),\n",
    "    A.OneOf([\n",
    "        A.Rotate(limit=(0, 90), p=0.7),\n",
    "        A.Compose([\n",
    "            A.HorizontalFlip(always_apply=True),\n",
    "            A.Rotate(limit=(-90, 0), p=0.7)\n",
    "        ])\n",
    "    ], p=0.7),\n",
    "    A.OneOf([\n",
    "        A.RandomBrightnessContrast(brightness_limit=(\n",
    "            0, 0.2), contrast_limit=(0, 0.3), p=0.7),\n",
    "        A.CLAHE(clip_limit=4.0, tile_grid_size=(8, 8), p=0.7),\n",
    "        A.Sharpen(alpha=(0.2, 0.8), lightness=(0.5, 1.0), p=0.7)\n",
    "    ], p=0.7),\n",
    "    A.Normalize(mean=mean,std=std,\n",
    "                max_pixel_value=255.0),\n",
    "    ToTensorV2()\n",
    "], bbox_params=A.BboxParams(format='coco', label_fields=['class_ids']))"
   ]
  },
  {
   "cell_type": "code",
   "execution_count": 137,
   "metadata": {},
   "outputs": [],
   "source": [
    "val_transformer = A.Compose([\n",
    "        A.Resize(height=512, width=512),\n",
    "         A.Normalize(mean=mean,std=std,\n",
    "                max_pixel_value=255.0),\n",
    "        ToTensorV2(),\n",
    "    ],\n",
    "    bbox_params=A.BboxParams(format='coco', label_fields=['class_ids']),\n",
    ")"
   ]
  },
  {
   "cell_type": "code",
   "execution_count": 144,
   "metadata": {},
   "outputs": [
    {
     "name": "stdout",
     "output_type": "stream",
     "text": [
      "loading annotations into memory...\n",
      "Done (t=0.00s)\n",
      "creating index...\n",
      "index created!\n"
     ]
    }
   ],
   "source": [
    "dataset = custom_dataloader.CustomDataset('../info/test.json' , transformer = val_transformer)"
   ]
  },
  {
   "cell_type": "code",
   "execution_count": 156,
   "metadata": {},
   "outputs": [],
   "source": [
    "from torch.utils.data import DataLoader\n",
    "val_loader = DataLoader(dataset = dataset , batch_size = 8)"
   ]
  },
  {
   "cell_type": "code",
   "execution_count": 157,
   "metadata": {},
   "outputs": [
    {
     "name": "stdout",
     "output_type": "stream",
     "text": [
      "Unexpected exception formatting exception. Falling back to standard exception\n"
     ]
    },
    {
     "name": "stderr",
     "output_type": "stream",
     "text": [
      "Traceback (most recent call last):\n",
      "  File \"/home/user304/anaconda3/envs/openmmlab/lib/python3.8/site-packages/IPython/core/interactiveshell.py\", line 3378, in run_code\n",
      "    exec(code_obj, self.user_global_ns, self.user_ns)\n",
      "  File \"/tmp/ipykernel_3771018/1045950065.py\", line 1, in <module>\n",
      "    for i in val_loader:\n",
      "  File \"/home/user304/anaconda3/envs/openmmlab/lib/python3.8/site-packages/torch/utils/data/dataloader.py\", line 681, in __next__\n",
      "    data = self._next_data()\n",
      "  File \"/home/user304/anaconda3/envs/openmmlab/lib/python3.8/site-packages/torch/utils/data/dataloader.py\", line 721, in _next_data\n",
      "    data = self._dataset_fetcher.fetch(index)  # may raise StopIteration\n",
      "  File \"/home/user304/anaconda3/envs/openmmlab/lib/python3.8/site-packages/torch/utils/data/_utils/fetch.py\", line 49, in fetch\n",
      "    data = [self.dataset[idx] for idx in possibly_batched_index]\n",
      "  File \"/home/user304/anaconda3/envs/openmmlab/lib/python3.8/site-packages/torch/utils/data/_utils/fetch.py\", line 49, in <listcomp>\n",
      "    data = [self.dataset[idx] for idx in possibly_batched_index]\n",
      "  File \"/home/user304/users/jiwon/graduation_paper/custom_trainer/custom_dataloader.py\", line 46, in __getitem__\n",
      "  File \"/home/user304/users/jiwon/graduation_paper/custom_trainer/custom_dataloader.py\", line 64, in get_image\n",
      "    img_meta = copy.deepcopy(self.img_info)\n",
      "  File \"/home/user304/.local/lib/python3.8/site-packages/pycocotools/coco.py\", line 231, in loadImgs\n",
      "    return [self.imgs[ids]]\n",
      "KeyError: 0\n",
      "\n",
      "During handling of the above exception, another exception occurred:\n",
      "\n",
      "Traceback (most recent call last):\n",
      "  File \"/home/user304/anaconda3/envs/openmmlab/lib/python3.8/site-packages/IPython/core/interactiveshell.py\", line 1997, in showtraceback\n",
      "    stb = self.InteractiveTB.structured_traceback(\n",
      "  File \"/home/user304/anaconda3/envs/openmmlab/lib/python3.8/site-packages/IPython/core/ultratb.py\", line 1112, in structured_traceback\n",
      "    return FormattedTB.structured_traceback(\n",
      "  File \"/home/user304/anaconda3/envs/openmmlab/lib/python3.8/site-packages/IPython/core/ultratb.py\", line 1006, in structured_traceback\n",
      "    return VerboseTB.structured_traceback(\n",
      "  File \"/home/user304/anaconda3/envs/openmmlab/lib/python3.8/site-packages/IPython/core/ultratb.py\", line 859, in structured_traceback\n",
      "    formatted_exception = self.format_exception_as_a_whole(etype, evalue, etb, number_of_lines_of_context,\n",
      "  File \"/home/user304/anaconda3/envs/openmmlab/lib/python3.8/site-packages/IPython/core/ultratb.py\", line 812, in format_exception_as_a_whole\n",
      "    frames.append(self.format_record(r))\n",
      "  File \"/home/user304/anaconda3/envs/openmmlab/lib/python3.8/site-packages/IPython/core/ultratb.py\", line 730, in format_record\n",
      "    result += ''.join(_format_traceback_lines(frame_info.lines, Colors, self.has_colors, lvals))\n",
      "  File \"/home/user304/anaconda3/envs/openmmlab/lib/python3.8/site-packages/stack_data/utils.py\", line 145, in cached_property_wrapper\n",
      "    value = obj.__dict__[self.func.__name__] = self.func(obj)\n",
      "  File \"/home/user304/anaconda3/envs/openmmlab/lib/python3.8/site-packages/stack_data/core.py\", line 734, in lines\n",
      "    pieces = self.included_pieces\n",
      "  File \"/home/user304/anaconda3/envs/openmmlab/lib/python3.8/site-packages/stack_data/utils.py\", line 145, in cached_property_wrapper\n",
      "    value = obj.__dict__[self.func.__name__] = self.func(obj)\n",
      "  File \"/home/user304/anaconda3/envs/openmmlab/lib/python3.8/site-packages/stack_data/core.py\", line 681, in included_pieces\n",
      "    pos = scope_pieces.index(self.executing_piece)\n",
      "  File \"/home/user304/anaconda3/envs/openmmlab/lib/python3.8/site-packages/stack_data/utils.py\", line 145, in cached_property_wrapper\n",
      "    value = obj.__dict__[self.func.__name__] = self.func(obj)\n",
      "  File \"/home/user304/anaconda3/envs/openmmlab/lib/python3.8/site-packages/stack_data/core.py\", line 660, in executing_piece\n",
      "    return only(\n",
      "  File \"/home/user304/anaconda3/envs/openmmlab/lib/python3.8/site-packages/executing/executing.py\", line 167, in only\n",
      "    raise NotOneValueFound('Expected one value, found 0')\n",
      "executing.executing.NotOneValueFound: Expected one value, found 0\n"
     ]
    }
   ],
   "source": [
    "class CustomDataset(data.Dataset):\n",
    "    def __init__(self, data_dir, transformer=None):\n",
    "        super(CustomDataset, self).__init__()\n",
    "        self.coco = COCO(data_dir)\n",
    "        self.img_idx_list = self.coco.getImgIds()\n",
    "        self.transformer = transformer\n",
    "        ori_shape = (596, 784, 3)\n",
    "        pad_shape = (512, 512, 3)\n",
    "        img_shape = (512, 512, 3)\n",
    "        xy_ratio = np.array(\n",
    "            list(y/x for x, y in zip(ori_shape, img_shape))[:2], dtype=np.float32)[::-1]\n",
    "        scale_factor = np.tile(xy_ratio, 2)\n",
    "        self.img_info = {'filename': '../dataset/', 'ori_filename': '', 'ori_shape': ori_shape,\n",
    "                         'img_shape': img_shape, 'pad_shape': pad_shape, 'scale_factor': scale_factor, 'flip': False,\n",
    "                         'flip_direction': None,\n",
    "                         'img_norm_cfg': {'mean': np.array([46.84, 46.84, 46.84], dtype=np.float32),\n",
    "                                          'std': np.array([48.73, 48.73, 48.73], dtype=np.float32)},\n",
    "                         'to_rgb': True}\n",
    "\n",
    "    def __len__(self):\n",
    "        return len(self.img_idx_list)\n",
    "\n",
    "    def __getitem__(self, idx):\n",
    "\n",
    "        img_meta, image = self.get_image(idx)\n",
    "        bboxes, class_ids = self.get_label(idx)\n",
    "\n",
    "        if self.transformer:\n",
    "            transformed_data = self.transformer(\n",
    "                image=image, bboxes=bboxes, class_ids=class_ids)\n",
    "            image = transformed_data['image']\n",
    "            bboxes = np.array(coco_cv2(transformed_data['bboxes']))\n",
    "            class_ids = np.array(transformed_data['class_ids'])\n",
    "\n",
    "            if len(class_ids) == 0:\n",
    "                bboxes = torch.empty(0, 4, dtype=torch.float32)\n",
    "                class_ids = torch.empty(0, 1, dtype=torch.long)\n",
    "\n",
    "        return img_meta, image, bboxes, class_ids\n",
    "\n",
    "    def get_image(self, idx):\n",
    "        img_meta = copy.deepcopy(self.img_info)\n",
    "        img_info = self.coco.loadImgs(ids=idx)[0]\n",
    "        filename = img_info['file_name']\n",
    "        image_path = os.path.join('../dataset', filename)\n",
    "        image = cv2.imread(image_path)\n",
    "        image = cv2.cvtColor(image, cv2.COLOR_BGR2RGB)\n",
    "        img_meta['filename'] += filename\n",
    "        img_meta['ori_filename'] = filename\n",
    "        return img_meta, image\n",
    "\n",
    "    def get_label(self, idx):\n",
    "        ann_ids = self.coco.getAnnIds(imgIds=idx)\n",
    "        anns = self.coco.loadAnns(ann_ids)\n",
    "        bboxes = np.array([ann['bbox'] for ann in anns])\n",
    "        class_ids = np.array([ann['category_id'] for ann in anns])\n",
    "\n",
    "        return bboxes, class_ids\n",
    "for i in val_loader:\n",
    "    pass"
   ]
  },
  {
   "cell_type": "code",
   "execution_count": null,
   "metadata": {},
   "outputs": [],
   "source": [
    "from torch import dataloader"
   ]
  },
  {
   "cell_type": "code",
   "execution_count": 3,
   "metadata": {},
   "outputs": [
    {
     "name": "stdout",
     "output_type": "stream",
     "text": [
      "loading annotations into memory...\n",
      "Done (t=0.01s)\n",
      "creating index...\n",
      "index created!\n"
     ]
    }
   ],
   "source": [
    "dataloader = import_data_loader('../info/train.json' , transformer = transformer)"
   ]
  },
  {
   "cell_type": "code",
   "execution_count": 4,
   "metadata": {},
   "outputs": [],
   "source": [
    "model = retina_fpn_swin_l()"
   ]
  },
  {
   "cell_type": "code",
   "execution_count": 5,
   "metadata": {},
   "outputs": [],
   "source": [
    "inputs = next(iter(dataloader))\n",
    "img_metas , images , bboxes , labels = inputs"
   ]
  },
  {
   "cell_type": "code",
   "execution_count": 6,
   "metadata": {},
   "outputs": [
    {
     "data": {
      "text/plain": [
       "[tensor([], size=(0, 4)),\n",
       " tensor([[174.5590, 217.8167, 310.8747, 351.3637]]),\n",
       " tensor([], size=(0, 4)),\n",
       " tensor([], size=(0, 4)),\n",
       " tensor([], size=(0, 4)),\n",
       " tensor([[205.0612, 175.2483, 303.0204, 271.4631]]),\n",
       " tensor([[207.6735, 172.6711, 306.2857, 270.6040]]),\n",
       " tensor([], size=(0, 4))]"
      ]
     },
     "execution_count": 6,
     "metadata": {},
     "output_type": "execute_result"
    }
   ],
   "source": [
    "bboxes"
   ]
  },
  {
   "cell_type": "code",
   "execution_count": 7,
   "metadata": {},
   "outputs": [],
   "source": [
    "de_std = tuple(std * 255 for std in std)\n",
    "de_mean = tuple(mean * 255 for mean in mean)"
   ]
  },
  {
   "cell_type": "code",
   "execution_count": 8,
   "metadata": {},
   "outputs": [],
   "source": [
    "image = images[1].permute(1,2,0)\n",
    "img = ((image *  torch.tensor(de_std)) + torch.tensor(de_mean)).int()"
   ]
  },
  {
   "cell_type": "code",
   "execution_count": 9,
   "metadata": {},
   "outputs": [],
   "source": [
    "img = img.numpy()"
   ]
  },
  {
   "cell_type": "code",
   "execution_count": 10,
   "metadata": {},
   "outputs": [],
   "source": [
    "optimizer = optim.AdamW(model.parameters(), \n",
    "                        lr=0.0001 / 8,\n",
    "                        betas=(0.9, 0.999),\n",
    "                        weight_decay=0.05,\n",
    "                        )\n",
    "model = model.cuda()"
   ]
  },
  {
   "cell_type": "code",
   "execution_count": 22,
   "metadata": {},
   "outputs": [
    {
     "data": {
      "text/plain": [
       "<All keys matched successfully>"
      ]
     },
     "execution_count": 22,
     "metadata": {},
     "output_type": "execute_result"
    }
   ],
   "source": [
    "model.load_state_dict(torch.load('./test3.pth'))"
   ]
  },
  {
   "cell_type": "code",
   "execution_count": 23,
   "metadata": {},
   "outputs": [
    {
     "ename": "KeyboardInterrupt",
     "evalue": "",
     "output_type": "error",
     "traceback": [
      "\u001b[0;31m---------------------------------------------------------------------------\u001b[0m",
      "\u001b[0;31mKeyboardInterrupt\u001b[0m                         Traceback (most recent call last)",
      "\u001b[1;32m/home/user304/users/jiwon/graduation_paper/custom_trainer/train_module.ipynb Cell 12\u001b[0m in \u001b[0;36m1\n\u001b[1;32m     <a href='vscode-notebook-cell://ssh-remote%2Bstatisticsserver/home/user304/users/jiwon/graduation_paper/custom_trainer/train_module.ipynb#X14sdnNjb2RlLXJlbW90ZQ%3D%3D?line=10'>11</a>\u001b[0m labels \u001b[39m=\u001b[39m [label\u001b[39m.\u001b[39mtype(torch\u001b[39m.\u001b[39mlong)\u001b[39m.\u001b[39mcuda() \u001b[39mfor\u001b[39;00m label \u001b[39min\u001b[39;00m labels]\n\u001b[1;32m     <a href='vscode-notebook-cell://ssh-remote%2Bstatisticsserver/home/user304/users/jiwon/graduation_paper/custom_trainer/train_module.ipynb#X14sdnNjb2RlLXJlbW90ZQ%3D%3D?line=11'>12</a>\u001b[0m outputs \u001b[39m=\u001b[39m model(images)\n\u001b[0;32m---> <a href='vscode-notebook-cell://ssh-remote%2Bstatisticsserver/home/user304/users/jiwon/graduation_paper/custom_trainer/train_module.ipynb#X14sdnNjb2RlLXJlbW90ZQ%3D%3D?line=12'>13</a>\u001b[0m losses \u001b[39m=\u001b[39m model\u001b[39m.\u001b[39mbbox_head\u001b[39m.\u001b[39mloss(\n\u001b[1;32m     <a href='vscode-notebook-cell://ssh-remote%2Bstatisticsserver/home/user304/users/jiwon/graduation_paper/custom_trainer/train_module.ipynb#X14sdnNjb2RlLXJlbW90ZQ%3D%3D?line=13'>14</a>\u001b[0m     cls_scores \u001b[39m=\u001b[39m outputs[\u001b[39m0\u001b[39m],\n\u001b[1;32m     <a href='vscode-notebook-cell://ssh-remote%2Bstatisticsserver/home/user304/users/jiwon/graduation_paper/custom_trainer/train_module.ipynb#X14sdnNjb2RlLXJlbW90ZQ%3D%3D?line=14'>15</a>\u001b[0m     bbox_preds \u001b[39m=\u001b[39m outputs[\u001b[39m1\u001b[39m],\n\u001b[1;32m     <a href='vscode-notebook-cell://ssh-remote%2Bstatisticsserver/home/user304/users/jiwon/graduation_paper/custom_trainer/train_module.ipynb#X14sdnNjb2RlLXJlbW90ZQ%3D%3D?line=15'>16</a>\u001b[0m     gt_bboxes \u001b[39m=\u001b[39m bboxes , \n\u001b[1;32m     <a href='vscode-notebook-cell://ssh-remote%2Bstatisticsserver/home/user304/users/jiwon/graduation_paper/custom_trainer/train_module.ipynb#X14sdnNjb2RlLXJlbW90ZQ%3D%3D?line=16'>17</a>\u001b[0m     gt_labels \u001b[39m=\u001b[39m labels , \n\u001b[1;32m     <a href='vscode-notebook-cell://ssh-remote%2Bstatisticsserver/home/user304/users/jiwon/graduation_paper/custom_trainer/train_module.ipynb#X14sdnNjb2RlLXJlbW90ZQ%3D%3D?line=17'>18</a>\u001b[0m     img_metas \u001b[39m=\u001b[39m img_metas\n\u001b[1;32m     <a href='vscode-notebook-cell://ssh-remote%2Bstatisticsserver/home/user304/users/jiwon/graduation_paper/custom_trainer/train_module.ipynb#X14sdnNjb2RlLXJlbW90ZQ%3D%3D?line=18'>19</a>\u001b[0m )\n\u001b[1;32m     <a href='vscode-notebook-cell://ssh-remote%2Bstatisticsserver/home/user304/users/jiwon/graduation_paper/custom_trainer/train_module.ipynb#X14sdnNjb2RlLXJlbW90ZQ%3D%3D?line=20'>21</a>\u001b[0m loss_cls_total \u001b[39m=\u001b[39m losses[\u001b[39m'\u001b[39m\u001b[39mloss_cls\u001b[39m\u001b[39m'\u001b[39m][\u001b[39m0\u001b[39m] \u001b[39m+\u001b[39m losses[\u001b[39m'\u001b[39m\u001b[39mloss_cls\u001b[39m\u001b[39m'\u001b[39m][\u001b[39m1\u001b[39m] \u001b[39m+\u001b[39m losses[\u001b[39m'\u001b[39m\u001b[39mloss_cls\u001b[39m\u001b[39m'\u001b[39m][\u001b[39m2\u001b[39m]\n\u001b[1;32m     <a href='vscode-notebook-cell://ssh-remote%2Bstatisticsserver/home/user304/users/jiwon/graduation_paper/custom_trainer/train_module.ipynb#X14sdnNjb2RlLXJlbW90ZQ%3D%3D?line=21'>22</a>\u001b[0m loss_bbox_total \u001b[39m=\u001b[39m losses[\u001b[39m'\u001b[39m\u001b[39mloss_bbox\u001b[39m\u001b[39m'\u001b[39m][\u001b[39m0\u001b[39m] \u001b[39m+\u001b[39m losses[\u001b[39m'\u001b[39m\u001b[39mloss_bbox\u001b[39m\u001b[39m'\u001b[39m][\u001b[39m1\u001b[39m] \u001b[39m+\u001b[39m losses[\u001b[39m'\u001b[39m\u001b[39mloss_bbox\u001b[39m\u001b[39m'\u001b[39m][\u001b[39m2\u001b[39m]\n",
      "File \u001b[0;32m~/anaconda3/envs/openmmlab/lib/python3.8/site-packages/mmcv/runner/fp16_utils.py:208\u001b[0m, in \u001b[0;36mforce_fp32.<locals>.force_fp32_wrapper.<locals>.new_func\u001b[0;34m(*args, **kwargs)\u001b[0m\n\u001b[1;32m    205\u001b[0m     \u001b[39mraise\u001b[39;00m \u001b[39mTypeError\u001b[39;00m(\u001b[39m'\u001b[39m\u001b[39m@force_fp32 can only be used to decorate the \u001b[39m\u001b[39m'\u001b[39m\n\u001b[1;32m    206\u001b[0m                     \u001b[39m'\u001b[39m\u001b[39mmethod of nn.Module\u001b[39m\u001b[39m'\u001b[39m)\n\u001b[1;32m    207\u001b[0m \u001b[39mif\u001b[39;00m \u001b[39mnot\u001b[39;00m (\u001b[39mhasattr\u001b[39m(args[\u001b[39m0\u001b[39m], \u001b[39m'\u001b[39m\u001b[39mfp16_enabled\u001b[39m\u001b[39m'\u001b[39m) \u001b[39mand\u001b[39;00m args[\u001b[39m0\u001b[39m]\u001b[39m.\u001b[39mfp16_enabled):\n\u001b[0;32m--> 208\u001b[0m     \u001b[39mreturn\u001b[39;00m old_func(\u001b[39m*\u001b[39;49margs, \u001b[39m*\u001b[39;49m\u001b[39m*\u001b[39;49mkwargs)\n\u001b[1;32m    209\u001b[0m \u001b[39m# get the arg spec of the decorated method\u001b[39;00m\n\u001b[1;32m    210\u001b[0m args_info \u001b[39m=\u001b[39m getfullargspec(old_func)\n",
      "File \u001b[0;32m~/anaconda3/envs/openmmlab/lib/python3.8/site-packages/mmdet/models/dense_heads/anchor_head.py:483\u001b[0m, in \u001b[0;36mAnchorHead.loss\u001b[0;34m(self, cls_scores, bbox_preds, gt_bboxes, gt_labels, img_metas, gt_bboxes_ignore)\u001b[0m\n\u001b[1;32m    479\u001b[0m \u001b[39massert\u001b[39;00m \u001b[39mlen\u001b[39m(featmap_sizes) \u001b[39m==\u001b[39m \u001b[39mself\u001b[39m\u001b[39m.\u001b[39mprior_generator\u001b[39m.\u001b[39mnum_levels\n\u001b[1;32m    481\u001b[0m device \u001b[39m=\u001b[39m cls_scores[\u001b[39m0\u001b[39m]\u001b[39m.\u001b[39mdevice\n\u001b[0;32m--> 483\u001b[0m anchor_list, valid_flag_list \u001b[39m=\u001b[39m \u001b[39mself\u001b[39;49m\u001b[39m.\u001b[39;49mget_anchors(\n\u001b[1;32m    484\u001b[0m     featmap_sizes, img_metas, device\u001b[39m=\u001b[39;49mdevice)\n\u001b[1;32m    485\u001b[0m label_channels \u001b[39m=\u001b[39m \u001b[39mself\u001b[39m\u001b[39m.\u001b[39mcls_out_channels \u001b[39mif\u001b[39;00m \u001b[39mself\u001b[39m\u001b[39m.\u001b[39muse_sigmoid_cls \u001b[39melse\u001b[39;00m \u001b[39m1\u001b[39m\n\u001b[1;32m    486\u001b[0m cls_reg_targets \u001b[39m=\u001b[39m \u001b[39mself\u001b[39m\u001b[39m.\u001b[39mget_targets(\n\u001b[1;32m    487\u001b[0m     anchor_list,\n\u001b[1;32m    488\u001b[0m     valid_flag_list,\n\u001b[0;32m   (...)\u001b[0m\n\u001b[1;32m    492\u001b[0m     gt_labels_list\u001b[39m=\u001b[39mgt_labels,\n\u001b[1;32m    493\u001b[0m     label_channels\u001b[39m=\u001b[39mlabel_channels)\n",
      "File \u001b[0;32m~/anaconda3/envs/openmmlab/lib/python3.8/site-packages/mmdet/models/dense_heads/anchor_head.py:188\u001b[0m, in \u001b[0;36mAnchorHead.get_anchors\u001b[0;34m(self, featmap_sizes, img_metas, device)\u001b[0m\n\u001b[1;32m    184\u001b[0m num_imgs \u001b[39m=\u001b[39m \u001b[39mlen\u001b[39m(img_metas)\n\u001b[1;32m    186\u001b[0m \u001b[39m# since feature map sizes of all images are the same, we only compute\u001b[39;00m\n\u001b[1;32m    187\u001b[0m \u001b[39m# anchors for one time\u001b[39;00m\n\u001b[0;32m--> 188\u001b[0m multi_level_anchors \u001b[39m=\u001b[39m \u001b[39mself\u001b[39;49m\u001b[39m.\u001b[39;49mprior_generator\u001b[39m.\u001b[39;49mgrid_priors(\n\u001b[1;32m    189\u001b[0m     featmap_sizes, device\u001b[39m=\u001b[39;49mdevice)\n\u001b[1;32m    190\u001b[0m anchor_list \u001b[39m=\u001b[39m [multi_level_anchors \u001b[39mfor\u001b[39;00m _ \u001b[39min\u001b[39;00m \u001b[39mrange\u001b[39m(num_imgs)]\n\u001b[1;32m    192\u001b[0m \u001b[39m# for each image, we compute valid flags of multi level anchors\u001b[39;00m\n",
      "File \u001b[0;32m~/anaconda3/envs/openmmlab/lib/python3.8/site-packages/mmdet/core/anchor/anchor_generator.py:236\u001b[0m, in \u001b[0;36mAnchorGenerator.grid_priors\u001b[0;34m(self, featmap_sizes, dtype, device)\u001b[0m\n\u001b[1;32m    234\u001b[0m multi_level_anchors \u001b[39m=\u001b[39m []\n\u001b[1;32m    235\u001b[0m \u001b[39mfor\u001b[39;00m i \u001b[39min\u001b[39;00m \u001b[39mrange\u001b[39m(\u001b[39mself\u001b[39m\u001b[39m.\u001b[39mnum_levels):\n\u001b[0;32m--> 236\u001b[0m     anchors \u001b[39m=\u001b[39m \u001b[39mself\u001b[39;49m\u001b[39m.\u001b[39;49msingle_level_grid_priors(\n\u001b[1;32m    237\u001b[0m         featmap_sizes[i], level_idx\u001b[39m=\u001b[39;49mi, dtype\u001b[39m=\u001b[39;49mdtype, device\u001b[39m=\u001b[39;49mdevice)\n\u001b[1;32m    238\u001b[0m     multi_level_anchors\u001b[39m.\u001b[39mappend(anchors)\n\u001b[1;32m    239\u001b[0m \u001b[39mreturn\u001b[39;00m multi_level_anchors\n",
      "File \u001b[0;32m~/anaconda3/envs/openmmlab/lib/python3.8/site-packages/mmdet/core/anchor/anchor_generator.py:263\u001b[0m, in \u001b[0;36mAnchorGenerator.single_level_grid_priors\u001b[0;34m(self, featmap_size, level_idx, dtype, device)\u001b[0m\n\u001b[1;32m    241\u001b[0m \u001b[39mdef\u001b[39;00m \u001b[39msingle_level_grid_priors\u001b[39m(\u001b[39mself\u001b[39m,\n\u001b[1;32m    242\u001b[0m                              featmap_size,\n\u001b[1;32m    243\u001b[0m                              level_idx,\n\u001b[1;32m    244\u001b[0m                              dtype\u001b[39m=\u001b[39mtorch\u001b[39m.\u001b[39mfloat32,\n\u001b[1;32m    245\u001b[0m                              device\u001b[39m=\u001b[39m\u001b[39m'\u001b[39m\u001b[39mcuda\u001b[39m\u001b[39m'\u001b[39m):\n\u001b[1;32m    246\u001b[0m     \u001b[39m\"\"\"Generate grid anchors of a single level.\u001b[39;00m\n\u001b[1;32m    247\u001b[0m \n\u001b[1;32m    248\u001b[0m \u001b[39m    Note:\u001b[39;00m\n\u001b[0;32m   (...)\u001b[0m\n\u001b[1;32m    260\u001b[0m \u001b[39m        torch.Tensor: Anchors in the overall feature maps.\u001b[39;00m\n\u001b[1;32m    261\u001b[0m \u001b[39m    \"\"\"\u001b[39;00m\n\u001b[0;32m--> 263\u001b[0m     base_anchors \u001b[39m=\u001b[39m \u001b[39mself\u001b[39;49m\u001b[39m.\u001b[39;49mbase_anchors[level_idx]\u001b[39m.\u001b[39;49mto(device)\u001b[39m.\u001b[39mto(dtype)\n\u001b[1;32m    264\u001b[0m     feat_h, feat_w \u001b[39m=\u001b[39m featmap_size\n\u001b[1;32m    265\u001b[0m     stride_w, stride_h \u001b[39m=\u001b[39m \u001b[39mself\u001b[39m\u001b[39m.\u001b[39mstrides[level_idx]\n",
      "\u001b[0;31mKeyboardInterrupt\u001b[0m: "
     ]
    }
   ],
   "source": [
    "epochs = 50\n",
    "cls_losses = 0\n",
    "bbox_losses = 0\n",
    "total_losses = 0\n",
    "for epoch in range(epochs):\n",
    "    for i, (img_metas , images , bboxes , labels) in enumerate(dataloader):\n",
    "        images = images.cuda()\n",
    "        model.train()\n",
    "\n",
    "        bboxes = [bbox.cuda() for bbox in bboxes]\n",
    "        labels = [label.type(torch.long).cuda() for label in labels]\n",
    "        outputs = model(images)\n",
    "        losses = model.bbox_head.loss(\n",
    "            cls_scores = outputs[0],\n",
    "            bbox_preds = outputs[1],\n",
    "            gt_bboxes = bboxes , \n",
    "            gt_labels = labels , \n",
    "            img_metas = img_metas\n",
    "        )\n",
    "\n",
    "        loss_cls_total = losses['loss_cls'][0] + losses['loss_cls'][1] + losses['loss_cls'][2]\n",
    "        loss_bbox_total = losses['loss_bbox'][0] + losses['loss_bbox'][1] + losses['loss_bbox'][2]\n",
    "        total_loss = loss_cls_total + loss_bbox_total\n",
    "        total_loss.backward()\n",
    "        optimizer.step()\n",
    "        optimizer.zero_grad()\n",
    "\n",
    "        cls_losses += loss_cls_total\n",
    "        bbox_losses += loss_bbox_total\n",
    "        total_losses += total_loss\n",
    "        if i % 100 ==0 and i > 0:\n",
    "            print(f'[{i} / {len(dataloader)}]')\n",
    "            print(f'step : {i}\\nloss_bbox : {bbox_losses / 100}  loss_cls_total : {cls_losses /100}  total_loss : {total_losses / 100}')\n",
    "            cls_losses = 0\n",
    "            bbox_losses = 0\n",
    "            total_losses = 0\n",
    "    \n",
    "    print(f'epoch : {epoch}')\n",
    "    print('-' * 30)"
   ]
  },
  {
   "cell_type": "code",
   "execution_count": 13,
   "metadata": {},
   "outputs": [],
   "source": [
    "# torch.save(model.state_dict(), './test2.pth')"
   ]
  },
  {
   "cell_type": "code",
   "execution_count": 24,
   "metadata": {},
   "outputs": [
    {
     "data": {
      "text/plain": [
       "tensor(-1.0783, device='cuda:0', grad_fn=<MinBackward1>)"
      ]
     },
     "execution_count": 24,
     "metadata": {},
     "output_type": "execute_result"
    }
   ],
   "source": [
    "outputs[1][2].min()"
   ]
  },
  {
   "cell_type": "code",
   "execution_count": 25,
   "metadata": {},
   "outputs": [
    {
     "data": {
      "text/plain": [
       "tensor(-63.1093, device='cuda:0', grad_fn=<MinBackward1>)"
      ]
     },
     "execution_count": 25,
     "metadata": {},
     "output_type": "execute_result"
    }
   ],
   "source": [
    "outputs[0][0].min()"
   ]
  },
  {
   "cell_type": "code",
   "execution_count": 26,
   "metadata": {},
   "outputs": [
    {
     "data": {
      "text/plain": [
       "{'loss_cls': [tensor(0.0369, device='cuda:0', grad_fn=<MulBackward0>),\n",
       "  tensor(0.0164, device='cuda:0', grad_fn=<MulBackward0>),\n",
       "  tensor(0.0319, device='cuda:0', grad_fn=<MulBackward0>)],\n",
       " 'loss_bbox': [tensor(0.0602, device='cuda:0', grad_fn=<MulBackward0>),\n",
       "  tensor(0.0403, device='cuda:0', grad_fn=<MulBackward0>),\n",
       "  tensor(0.0669, device='cuda:0', grad_fn=<MulBackward0>)]}"
      ]
     },
     "execution_count": 26,
     "metadata": {},
     "output_type": "execute_result"
    }
   ],
   "source": [
    "losses = model.bbox_head.loss(\n",
    "    cls_scores = outputs[0],\n",
    "    bbox_preds = outputs[1],\n",
    "    gt_bboxes = bboxes , \n",
    "    gt_labels = labels , \n",
    "    img_metas = img_metas\n",
    ")\n",
    "losses"
   ]
  },
  {
   "cell_type": "code",
   "execution_count": 27,
   "metadata": {},
   "outputs": [
    {
     "data": {
      "text/plain": [
       "tensor(0.9071, device='cuda:0', grad_fn=<MaxBackward1>)"
      ]
     },
     "execution_count": 27,
     "metadata": {},
     "output_type": "execute_result"
    }
   ],
   "source": [
    "outputs[0][2].max()"
   ]
  },
  {
   "cell_type": "code",
   "execution_count": 28,
   "metadata": {},
   "outputs": [
    {
     "data": {
      "text/plain": [
       "[tensor([2], device='cuda:0'),\n",
       " tensor([], device='cuda:0', size=(0, 1), dtype=torch.int64),\n",
       " tensor([2], device='cuda:0'),\n",
       " tensor([], device='cuda:0', size=(0, 1), dtype=torch.int64),\n",
       " tensor([1], device='cuda:0'),\n",
       " tensor([], device='cuda:0', size=(0, 1), dtype=torch.int64),\n",
       " tensor([], device='cuda:0', size=(0, 1), dtype=torch.int64),\n",
       " tensor([], device='cuda:0', size=(0, 1), dtype=torch.int64)]"
      ]
     },
     "execution_count": 28,
     "metadata": {},
     "output_type": "execute_result"
    }
   ],
   "source": [
    "labels"
   ]
  },
  {
   "cell_type": "code",
   "execution_count": 97,
   "metadata": {},
   "outputs": [],
   "source": [
    "bboxes = model.bbox_head.get_bboxes(\n",
    "        cls_scores = outputs[0],\n",
    "        bbox_preds = outputs[1],\n",
    "        img_metas = img_metas\n",
    "    )"
   ]
  },
  {
   "cell_type": "code",
   "execution_count": 123,
   "metadata": {},
   "outputs": [
    {
     "data": {
      "text/plain": [
       "<matplotlib.image.AxesImage at 0x7f99de3643d0>"
      ]
     },
     "execution_count": 123,
     "metadata": {},
     "output_type": "execute_result"
    },
    {
     "data": {
      "image/png": "[encoded data removed]",
      "text/plain": [
       "<Figure size 640x480 with 1 Axes>"
      ]
     },
     "metadata": {},
     "output_type": "display_data"
    }
   ],
   "source": [
    "bbox_preds = bboxes[0][0].cpu().int().numpy()\n",
    "image = images[0].permute(1,2,0).cpu()\n",
    "img = ((image *  torch.tensor(de_std)) + torch.tensor(de_mean)).int()\n",
    "img = img.numpy().astype(np.uint8).copy()\n",
    "for i in range(len(bbox_preds)):\n",
    "    cv2.rectangle(img , pt1 =bbox_preds[i,:2]  , pt2 = bbox_preds[i,2:-1], color = (255,255,0), thickness = 3)\n",
    "plt.imshow(img)"
   ]
  },
  {
   "cell_type": "code",
   "execution_count": 133,
   "metadata": {},
   "outputs": [
    {
     "data": {
      "text/plain": [
       "True"
      ]
     },
     "execution_count": 133,
     "metadata": {},
     "output_type": "execute_result"
    }
   ],
   "source": [
    "isinstance(img ,np.ndarray)"
   ]
  },
  {
   "cell_type": "code",
   "execution_count": 135,
   "metadata": {},
   "outputs": [
    {
     "data": {
      "text/plain": [
       "numpy.ndarray"
      ]
     },
     "execution_count": 135,
     "metadata": {},
     "output_type": "execute_result"
    }
   ],
   "source": [
    "type(img)"
   ]
  },
  {
   "cell_type": "code",
   "execution_count": 88,
   "metadata": {},
   "outputs": [
    {
     "data": {
      "text/plain": [
       "(array([320, 320], dtype=int32), array([320, 279], dtype=int32))"
      ]
     },
     "execution_count": 88,
     "metadata": {},
     "output_type": "execute_result"
    }
   ],
   "source": [
    "bbox_preds[i,:2] ,bbox_preds[i,2:-1]"
   ]
  },
  {
   "cell_type": "code",
   "execution_count": null,
   "metadata": {},
   "outputs": [
    {
     "data": {
      "text/plain": [
       "<All keys matched successfully>"
      ]
     },
     "execution_count": 37,
     "metadata": {},
     "output_type": "execute_result"
    }
   ],
   "source": [
    "torch.save(model.state_dict(), './test2.pth')"
   ]
  },
  {
   "cell_type": "code",
   "execution_count": null,
   "metadata": {},
   "outputs": [],
   "source": []
  },
  {
   "cell_type": "code",
   "execution_count": null,
   "metadata": {},
   "outputs": [],
   "source": []
  },
  {
   "cell_type": "code",
   "execution_count": null,
   "metadata": {},
   "outputs": [],
   "source": []
  },
  {
   "cell_type": "code",
   "execution_count": null,
   "metadata": {},
   "outputs": [],
   "source": []
  },
  {
   "cell_type": "code",
   "execution_count": null,
   "metadata": {},
   "outputs": [],
   "source": []
  },
  {
   "cell_type": "code",
   "execution_count": null,
   "metadata": {},
   "outputs": [],
   "source": [
    "import glob\n",
    "import matplotlib.pyplot as plt\n",
    "import seaborn as sns\n",
    "import os\n",
    "import matplotlib as mpl\n",
    "import cv2\n",
    "import json\n",
    "from ipywidgets import interact\n",
    "from pycocotools.coco import COCO\n",
    "from pycocotools.cocoeval import COCOeval\n",
    "import numpy as np\n",
    "import pandas as pd\n",
    "from sklearn.cluster import KMeans\n",
    "import seaborn as sns\n",
    "from mmdet import core\n",
    "import torch\n",
    "import warnings\n",
    "warnings.filterwarnings('ignore')\n",
    "\n",
    "\n",
    "class OD_visual:\n",
    "    def __init__(self,img ,coco_gt_path, coco_pred_path=None):\n",
    "        '''\n",
    "        coco_gt_path (str) :\n",
    "        coco_pred_path (str) :\n",
    "        '''\n",
    "        if isinstance(img, np.ndarray):\n",
    "            self.img = img\n",
    "        elif isinstance(img, str):\n",
    "            if os.path.splitext(img)[1] == '.json':\n",
    "        self.coco_gt = COCO(coco_gt_path)\n",
    "\n",
    "        if coco_pred_path:\n",
    "            self.coco_pred = self.coco_gt.loadRes(coco_pred_path)\n",
    "        else:\n",
    "            self.coco_pred = None\n",
    "        # {img_name : imgId}\n",
    "        self.img_name_to_id = {os.path.basename(label_info['file_name']).split('.jpg')[0]: label_info['id']\n",
    "                               for label_info in self.coco_gt.loadImgs(self.coco_gt.getImgIds())}\n",
    "\n",
    "        # {imgId : img_name}\n",
    "        self.imgId_to_name = {v: k for k, v in self.img_name_to_id.items()}\n",
    "\n",
    "        # {catId : cat_name}\n",
    "        self.cat_name_to_id = {cat_info['name']: cat_info['id']\n",
    "                               for cat_info in self.coco_gt.loadCats(self.coco_gt.getCatIds())}\n",
    "\n",
    "        # {cat_name : catId}\n",
    "        self.catId_to_name = {v: k for k, v in self.cat_name_to_id.items()}\n",
    "\n",
    "    def label_to_img_path(self, data_path):\n",
    "        data_path = data_path.replace('label', 'defect').replace('json', 'jpg')\n",
    "        return data_path\n",
    "\n",
    "\n",
    "\n",
    "    def widget(self, conf=None, catIds=None, areaRng=None):\n",
    "        pass\n"
   ]
  }
 ],
 "metadata": {
  "kernelspec": {
   "display_name": "openmmlab",
   "language": "python",
   "name": "python3"
  },
  "language_info": {
   "codemirror_mode": {
    "name": "ipython",
    "version": 3
   },
   "file_extension": ".py",
   "mimetype": "text/x-python",
   "name": "python",
   "nbconvert_exporter": "python",
   "pygments_lexer": "ipython3",
   "version": "3.8.13"
  },
  "orig_nbformat": 4
 },
 "nbformat": 4,
 "nbformat_minor": 2
}
