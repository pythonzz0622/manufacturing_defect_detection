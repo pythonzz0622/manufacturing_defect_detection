{
 "cells": [
  {
   "cell_type": "code",
   "execution_count": 13,
   "metadata": {},
   "outputs": [],
   "source": [
    "import numpy as np\n",
    "import json\n",
    "import matplotlib.pyplot as plt\n",
    "import pandas as pd"
   ]
  },
  {
   "cell_type": "code",
   "execution_count": 6,
   "metadata": {},
   "outputs": [],
   "source": [
    "file_path = '../mmdetection/ckpts/retinanet_swin-l/20230215_123259.log.json'\n",
    "json_data = []\n",
    "with open(file_path, 'r') as f:\n",
    "    for line in f:\n",
    "        json_data.append(json.loads(line))"
   ]
  },
  {
   "cell_type": "code",
   "execution_count": 11,
   "metadata": {},
   "outputs": [],
   "source": [
    "val_data = [data for data in json_data[1:] if data['mode'] == 'val']"
   ]
  },
  {
   "cell_type": "code",
   "execution_count": 14,
   "metadata": {},
   "outputs": [
    {
     "data": {
      "text/html": [
       "<div>\n",
       "<style scoped>\n",
       "    .dataframe tbody tr th:only-of-type {\n",
       "        vertical-align: middle;\n",
       "    }\n",
       "\n",
       "    .dataframe tbody tr th {\n",
       "        vertical-align: top;\n",
       "    }\n",
       "\n",
       "    .dataframe thead th {\n",
       "        text-align: right;\n",
       "    }\n",
       "</style>\n",
       "<table border=\"1\" class=\"dataframe\">\n",
       "  <thead>\n",
       "    <tr style=\"text-align: right;\">\n",
       "      <th></th>\n",
       "      <th>mode</th>\n",
       "      <th>epoch</th>\n",
       "      <th>iter</th>\n",
       "      <th>lr</th>\n",
       "      <th>bbox_mAP</th>\n",
       "      <th>bbox_mAP_50</th>\n",
       "      <th>bbox_mAP_75</th>\n",
       "      <th>bbox_mAP_s</th>\n",
       "      <th>bbox_mAP_m</th>\n",
       "      <th>bbox_mAP_l</th>\n",
       "      <th>bbox_mAP_copypaste</th>\n",
       "    </tr>\n",
       "  </thead>\n",
       "  <tbody>\n",
       "    <tr>\n",
       "      <th>0</th>\n",
       "      <td>val</td>\n",
       "      <td>10</td>\n",
       "      <td>472</td>\n",
       "      <td>0.00001</td>\n",
       "      <td>0.412</td>\n",
       "      <td>0.779</td>\n",
       "      <td>0.379</td>\n",
       "      <td>0.101</td>\n",
       "      <td>0.184</td>\n",
       "      <td>0.410</td>\n",
       "      <td>0.412 0.779 0.379 0.101 0.184 0.410</td>\n",
       "    </tr>\n",
       "    <tr>\n",
       "      <th>1</th>\n",
       "      <td>val</td>\n",
       "      <td>20</td>\n",
       "      <td>472</td>\n",
       "      <td>0.00001</td>\n",
       "      <td>0.482</td>\n",
       "      <td>0.831</td>\n",
       "      <td>0.448</td>\n",
       "      <td>0.101</td>\n",
       "      <td>0.258</td>\n",
       "      <td>0.486</td>\n",
       "      <td>0.482 0.831 0.448 0.101 0.258 0.486</td>\n",
       "    </tr>\n",
       "    <tr>\n",
       "      <th>2</th>\n",
       "      <td>val</td>\n",
       "      <td>30</td>\n",
       "      <td>472</td>\n",
       "      <td>0.00000</td>\n",
       "      <td>0.559</td>\n",
       "      <td>0.848</td>\n",
       "      <td>0.649</td>\n",
       "      <td>0.151</td>\n",
       "      <td>0.254</td>\n",
       "      <td>0.631</td>\n",
       "      <td>0.559 0.848 0.649 0.151 0.254 0.631</td>\n",
       "    </tr>\n",
       "    <tr>\n",
       "      <th>3</th>\n",
       "      <td>val</td>\n",
       "      <td>40</td>\n",
       "      <td>472</td>\n",
       "      <td>0.00000</td>\n",
       "      <td>0.556</td>\n",
       "      <td>0.861</td>\n",
       "      <td>0.655</td>\n",
       "      <td>0.353</td>\n",
       "      <td>0.252</td>\n",
       "      <td>0.602</td>\n",
       "      <td>0.556 0.861 0.655 0.353 0.252 0.602</td>\n",
       "    </tr>\n",
       "    <tr>\n",
       "      <th>4</th>\n",
       "      <td>val</td>\n",
       "      <td>50</td>\n",
       "      <td>472</td>\n",
       "      <td>0.00000</td>\n",
       "      <td>0.559</td>\n",
       "      <td>0.862</td>\n",
       "      <td>0.646</td>\n",
       "      <td>0.353</td>\n",
       "      <td>0.256</td>\n",
       "      <td>0.609</td>\n",
       "      <td>0.559 0.862 0.646 0.353 0.256 0.609</td>\n",
       "    </tr>\n",
       "  </tbody>\n",
       "</table>\n",
       "</div>"
      ],
      "text/plain": [
       "  mode  epoch  iter       lr  bbox_mAP  bbox_mAP_50  bbox_mAP_75  bbox_mAP_s  \\\n",
       "0  val     10   472  0.00001     0.412        0.779        0.379       0.101   \n",
       "1  val     20   472  0.00001     0.482        0.831        0.448       0.101   \n",
       "2  val     30   472  0.00000     0.559        0.848        0.649       0.151   \n",
       "3  val     40   472  0.00000     0.556        0.861        0.655       0.353   \n",
       "4  val     50   472  0.00000     0.559        0.862        0.646       0.353   \n",
       "\n",
       "   bbox_mAP_m  bbox_mAP_l                   bbox_mAP_copypaste  \n",
       "0       0.184       0.410  0.412 0.779 0.379 0.101 0.184 0.410  \n",
       "1       0.258       0.486  0.482 0.831 0.448 0.101 0.258 0.486  \n",
       "2       0.254       0.631  0.559 0.848 0.649 0.151 0.254 0.631  \n",
       "3       0.252       0.602  0.556 0.861 0.655 0.353 0.252 0.602  \n",
       "4       0.256       0.609  0.559 0.862 0.646 0.353 0.256 0.609  "
      ]
     },
     "execution_count": 14,
     "metadata": {},
     "output_type": "execute_result"
    }
   ],
   "source": [
    "pd.DataFrame(val_data)"
   ]
  }
 ],
 "metadata": {
  "kernelspec": {
   "display_name": "openmmlab",
   "language": "python",
   "name": "python3"
  },
  "language_info": {
   "codemirror_mode": {
    "name": "ipython",
    "version": 3
   },
   "file_extension": ".py",
   "mimetype": "text/x-python",
   "name": "python",
   "nbconvert_exporter": "python",
   "pygments_lexer": "ipython3",
   "version": "3.8.13"
  },
  "orig_nbformat": 4,
  "vscode": {
   "interpreter": {
    "hash": "1c3d72f6befbece6777f46293cf4aefc9a1488481f7bfe7e1d49c30006c7994c"
   }
  }
 },
 "nbformat": 4,
 "nbformat_minor": 2
}
