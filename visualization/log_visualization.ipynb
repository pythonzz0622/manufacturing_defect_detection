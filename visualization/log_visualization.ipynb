{
 "cells": [
  {
   "cell_type": "code",
   "execution_count": 1,
   "metadata": {},
   "outputs": [],
   "source": [
    "import numpy as np\n",
    "import json\n",
    "import matplotlib.pyplot as plt\n",
    "import pandas as pd\n",
    "from pycocotools.coco import COCO\n",
    "import re\n",
    "import os"
   ]
  },
  {
   "cell_type": "code",
   "execution_count": 2,
   "metadata": {},
   "outputs": [],
   "source": [
    "with open('../mmdetection/result/retinanet_swin-l/result.bbox.json', 'r') as f:\n",
    "    swin_data = json.load(f)\n",
    "\n",
    "with open('../mmdetection/result/faster_rcnn/result.bbox.json', 'r') as f:\n",
    "    rcnn_data = json.load(f)\n",
    "\n",
    "with open('../yolov7/runs/test/yolov7_640_val2/last_predictions.json', 'r') as f:\n",
    "    yolo_data = json.load(f)"
   ]
  },
  {
   "cell_type": "code",
   "execution_count": 3,
   "metadata": {},
   "outputs": [
    {
     "name": "stdout",
     "output_type": "stream",
     "text": [
      "loading annotations into memory...\n",
      "Done (t=0.01s)\n",
      "creating index...\n",
      "index created!\n"
     ]
    }
   ],
   "source": [
    "coco = COCO('../info/test.json')\n",
    "\n",
    "img_path_to_id = {re.sub('.jpg', '', os.path.basename(\n",
    "    x['file_name'])): x['id'] for x in coco.loadImgs(coco.getImgIds())}\n",
    "\n",
    "for i in range(len(yolo_data)):\n",
    "    yolo_data[i]['image_id'] = img_path_to_id[yolo_data[i]['image_id']]\n",
    "    yolo_data[i]['category_id'] += 1"
   ]
  },
  {
   "cell_type": "code",
   "execution_count": 4,
   "metadata": {},
   "outputs": [
    {
     "name": "stdout",
     "output_type": "stream",
     "text": [
      "loading annotations into memory...\n",
      "Done (t=0.00s)\n",
      "creating index...\n",
      "index created!\n",
      "Loading and preparing results...\n",
      "DONE (t=0.00s)\n",
      "creating index...\n",
      "index created!\n",
      "Running per image evaluation...\n",
      "Evaluate annotation type *bbox*\n",
      "DONE (t=0.11s).\n",
      "Accumulating evaluation results...\n",
      "DONE (t=0.07s).\n",
      " Average Precision  (AP) @[ IoU=0.50:0.95 | area=   all | maxDets=100 ] = 0.559\n",
      " Average Precision  (AP) @[ IoU=0.50      | area=   all | maxDets=100 ] = 0.862\n",
      " Average Precision  (AP) @[ IoU=0.75      | area=   all | maxDets=100 ] = 0.646\n",
      " Average Precision  (AP) @[ IoU=0.50:0.95 | area= small | maxDets=100 ] = 0.353\n",
      " Average Precision  (AP) @[ IoU=0.50:0.95 | area=medium | maxDets=100 ] = 0.256\n",
      " Average Precision  (AP) @[ IoU=0.50:0.95 | area= large | maxDets=100 ] = 0.609\n",
      " Average Recall     (AR) @[ IoU=0.50:0.95 | area=   all | maxDets=  1 ] = 0.622\n",
      " Average Recall     (AR) @[ IoU=0.50:0.95 | area=   all | maxDets= 10 ] = 0.641\n",
      " Average Recall     (AR) @[ IoU=0.50:0.95 | area=   all | maxDets=100 ] = 0.642\n",
      " Average Recall     (AR) @[ IoU=0.50:0.95 | area= small | maxDets=100 ] = 0.350\n",
      " Average Recall     (AR) @[ IoU=0.50:0.95 | area=medium | maxDets=100 ] = 0.386\n",
      " Average Recall     (AR) @[ IoU=0.50:0.95 | area= large | maxDets=100 ] = 0.693\n"
     ]
    }
   ],
   "source": [
    "from pycocotools.coco import COCO\n",
    "from pycocotools.cocoeval import COCOeval\n",
    "\n",
    "coco_gld = COCO('../info/test.json')\n",
    "coco_rst = coco_gld.loadRes('../mmdetection/result/retinanet_swin-l/result.bbox.json')\n",
    "cocoEval = COCOeval(coco_gld, coco_rst, iouType='bbox')\n",
    "cocoEval.evaluate()\n",
    "cocoEval.accumulate()\n",
    "cocoEval.summarize()"
   ]
  },
  {
   "cell_type": "code",
   "execution_count": 6,
   "metadata": {},
   "outputs": [
    {
     "name": "stdout",
     "output_type": "stream",
     "text": [
      "Accumulating evaluation results...\n",
      "DONE (t=0.03s).\n"
     ]
    }
   ],
   "source": [
    "cocoEval.accumulate()"
   ]
  },
  {
   "cell_type": "code",
   "execution_count": 21,
   "metadata": {},
   "outputs": [
    {
     "data": {
      "text/plain": [
       "{'id': 5,\n",
       " 'category_id': 1,\n",
       " 'bbox': [275, 247, 64, 68],\n",
       " 'image_id': 5,\n",
       " 'area': 4352,\n",
       " 'iscrowd': 0}"
      ]
     },
     "execution_count": 21,
     "metadata": {},
     "output_type": "execute_result"
    }
   ],
   "source": [
    "coco.loadAnns(coco_gld.getAnnIds())[1]"
   ]
  },
  {
   "cell_type": "code",
   "execution_count": 23,
   "metadata": {},
   "outputs": [
    {
     "data": {
      "text/plain": [
       "array([[0.80889633],\n",
       "       [0.49119999],\n",
       "       [0.14260083]])"
      ]
     },
     "execution_count": 23,
     "metadata": {},
     "output_type": "execute_result"
    }
   ],
   "source": [
    "cocoEval.computeIoU(imgId=5 , catId=1)"
   ]
  },
  {
   "cell_type": "code",
   "execution_count": 57,
   "metadata": {},
   "outputs": [
    {
     "data": {
      "text/plain": [
       "7"
      ]
     },
     "execution_count": 57,
     "metadata": {},
     "output_type": "execute_result"
    }
   ],
   "source": [
    "len(coco_rst.getAnnIds(imgIds=5))"
   ]
  },
  {
   "cell_type": "code",
   "execution_count": 84,
   "metadata": {},
   "outputs": [
    {
     "data": {
      "text/plain": [
       "{'image_id': 5,\n",
       " 'category_id': 2,\n",
       " 'aRng': [10, 100, 1000],\n",
       " 'maxDet': 100,\n",
       " 'dtIds': [520, 521, 522, 523],\n",
       " 'gtIds': [],\n",
       " 'dtMatches': array([[0., 0., 0., 0.],\n",
       "        [0., 0., 0., 0.],\n",
       "        [0., 0., 0., 0.],\n",
       "        [0., 0., 0., 0.],\n",
       "        [0., 0., 0., 0.],\n",
       "        [0., 0., 0., 0.],\n",
       "        [0., 0., 0., 0.],\n",
       "        [0., 0., 0., 0.],\n",
       "        [0., 0., 0., 0.],\n",
       "        [0., 0., 0., 0.]]),\n",
       " 'gtMatches': array([], shape=(10, 0), dtype=float64),\n",
       " 'dtScores': [0.3941749930381775,\n",
       "  0.09402159601449966,\n",
       "  0.08925708383321762,\n",
       "  0.05014302581548691],\n",
       " 'gtIgnore': array([], dtype=float64),\n",
       " 'dtIgnore': array([[ True,  True,  True,  True],\n",
       "        [ True,  True,  True,  True],\n",
       "        [ True,  True,  True,  True],\n",
       "        [ True,  True,  True,  True],\n",
       "        [ True,  True,  True,  True],\n",
       "        [ True,  True,  True,  True],\n",
       "        [ True,  True,  True,  True],\n",
       "        [ True,  True,  True,  True],\n",
       "        [ True,  True,  True,  True],\n",
       "        [ True,  True,  True,  True]])}"
      ]
     },
     "execution_count": 84,
     "metadata": {},
     "output_type": "execute_result"
    }
   ],
   "source": [
    "cocoEval.evaluateImg(imgId = 5 , catId = 2 , aRng = [10, 100 ,1000]  , maxDet=100)"
   ]
  },
  {
   "cell_type": "code",
   "execution_count": 85,
   "metadata": {},
   "outputs": [
    {
     "name": "stdout",
     "output_type": "stream",
     "text": [
      "Accumulating evaluation results...\n",
      "DONE (t=0.04s).\n",
      "hello\n"
     ]
    }
   ],
   "source": [
    "data = cocoEval.accumulate()\n",
    "print('hello')"
   ]
  },
  {
   "cell_type": "code",
   "execution_count": 86,
   "metadata": {},
   "outputs": [
    {
     "data": {
      "text/plain": [
       "[{'id': 1, 'name': 'over', 'supercategory': 'defect'},\n",
       " {'id': 2, 'name': 'under', 'supercategory': 'defect'},\n",
       " {'id': 3, 'name': 'non-welding', 'supercategory': 'defect'}]"
      ]
     },
     "execution_count": 86,
     "metadata": {},
     "output_type": "execute_result"
    }
   ],
   "source": [
    "coco.loadCats(coco_rst.getCatIds())"
   ]
  },
  {
   "cell_type": "code",
   "execution_count": 87,
   "metadata": {},
   "outputs": [
    {
     "data": {
      "text/plain": [
       "(10, 101, 3, 4, 3)"
      ]
     },
     "execution_count": 87,
     "metadata": {},
     "output_type": "execute_result"
    }
   ],
   "source": [
    "cocoEval.eval['precision'].shape"
   ]
  },
  {
   "cell_type": "code",
   "execution_count": 88,
   "metadata": {},
   "outputs": [
    {
     "data": {
      "text/plain": [
       "(10, 3, 4, 3)"
      ]
     },
     "execution_count": 88,
     "metadata": {},
     "output_type": "execute_result"
    }
   ],
   "source": [
    "cocoEval.eval['recall'].shape"
   ]
  },
  {
   "cell_type": "code",
   "execution_count": 89,
   "metadata": {},
   "outputs": [
    {
     "data": {
      "text/plain": [
       "array([0.55880215, 0.86151748, 0.64595914, 0.35346535, 0.25583734,\n",
       "       0.60943532, 0.62160948, 0.64105392, 0.64244281, 0.35      ,\n",
       "       0.38571429, 0.69313725])"
      ]
     },
     "execution_count": 89,
     "metadata": {},
     "output_type": "execute_result"
    }
   ],
   "source": [
    "cocoEval.stats"
   ]
  },
  {
   "cell_type": "code",
   "execution_count": 90,
   "metadata": {},
   "outputs": [
    {
     "data": {
      "text/plain": [
       "[10, 101, 3, 4, 3]"
      ]
     },
     "execution_count": 90,
     "metadata": {},
     "output_type": "execute_result"
    }
   ],
   "source": [
    "cocoEval.eval['counts']"
   ]
  },
  {
   "cell_type": "code",
   "execution_count": 93,
   "metadata": {},
   "outputs": [
    {
     "data": {
      "text/plain": [
       "(10, 101, 4, 3)"
      ]
     },
     "execution_count": 93,
     "metadata": {},
     "output_type": "execute_result"
    }
   ],
   "source": [
    "cocoEval.eval['precision'][:,:,0,:,:].shape"
   ]
  },
  {
   "cell_type": "code",
   "execution_count": 107,
   "metadata": {},
   "outputs": [
    {
     "data": {
      "text/plain": [
       "array([0.        , 0.04651163, 0.09422492, 0.10194175, 0.11246201,\n",
       "       0.11904762, 0.12349398, 0.12462006, 0.12765957, 0.13289037,\n",
       "       0.13333333, 0.14563107, 0.14754098, 0.15254237, 0.16666667,\n",
       "       0.17475728, 0.17486339, 0.18932039, 0.19251337, 0.19459459,\n",
       "       0.2       , 0.20710059, 0.21621622, 0.22033898, 0.22857143,\n",
       "       0.23404255, 0.23809524, 0.25217391, 0.26271186, 0.27272727,\n",
       "       0.28571429, 0.29166667, 0.29824561, 0.3030303 , 0.30434783,\n",
       "       0.30769231, 0.31372549, 0.32051282, 0.32142857, 0.33333333,\n",
       "       0.35      , 0.35897436, 0.36170213, 0.36363636, 0.37142857,\n",
       "       0.37837838, 0.38095238, 0.38461538, 0.39393939, 0.4       ,\n",
       "       0.4057971 , 0.40909091, 0.4137931 , 0.43859649, 0.44      ,\n",
       "       0.44230769, 0.45454545, 0.46153846, 0.47058824, 0.47619048,\n",
       "       0.48      , 0.48571429, 0.48648649, 0.48888889, 0.49275362,\n",
       "       0.5       , 0.51515152, 0.51724138, 0.52631579, 0.53571429,\n",
       "       0.53846154, 0.54545455, 0.54761905, 0.55072464, 0.55102041,\n",
       "       0.55172414, 0.55555556, 0.55932203, 0.56      , 0.56060606,\n",
       "       0.56410256, 0.56896552, 0.57142857, 0.575     , 0.57692308,\n",
       "       0.57777778, 0.58      , 0.58139535, 0.58333333, 0.58695652,\n",
       "       0.58974359, 0.59090909, 0.59459459, 0.5952381 , 0.59649123,\n",
       "       0.6       , 0.60377358, 0.60606061, 0.60869565, 0.6122449 ,\n",
       "       0.61538462, 0.61764706, 0.62      , 0.62121212, 0.625     ,\n",
       "       0.62711864, 0.62745098, 0.62790698, 0.63043478, 0.63636364,\n",
       "       0.63793103, 0.64102564, 0.64285714, 0.64583333, 0.64864865,\n",
       "       0.65217391, 0.65454545, 0.65517241, 0.65625   , 0.65909091,\n",
       "       0.66666667, 0.67307692, 0.67647059, 0.67924528, 0.68      ,\n",
       "       0.6875    , 0.69230769, 0.69387755, 0.69565217, 0.70212766,\n",
       "       0.70454545, 0.71428571, 0.71875   , 0.72413793, 0.72727273,\n",
       "       0.75      , 0.76      , 0.76923077, 0.78571429, 0.79310345,\n",
       "       0.8       , 0.80769231, 0.81481481, 0.83333333, 0.875     ,\n",
       "       1.        , 1.        ])"
      ]
     },
     "execution_count": 107,
     "metadata": {},
     "output_type": "execute_result"
    }
   ],
   "source": [
    "np.unique(cocoEval.eval['precision'][:,:,0,:,:])"
   ]
  },
  {
   "cell_type": "code",
   "execution_count": 114,
   "metadata": {},
   "outputs": [
    {
     "data": {
      "text/plain": [
       "[0.8735492825508118, 0.11685810983181, 0.07602743059396744]"
      ]
     },
     "execution_count": 114,
     "metadata": {},
     "output_type": "execute_result"
    }
   ],
   "source": [
    "cocoEval.evaluateImg(imgId = 5 , catId= 1 , aRng = [0 , 100000000.0] , maxDet = 10)['dtScores']"
   ]
  },
  {
   "cell_type": "code",
   "execution_count": 115,
   "metadata": {},
   "outputs": [],
   "source": [
    "results = cocoEval.eval"
   ]
  },
  {
   "cell_type": "code",
   "execution_count": 117,
   "metadata": {},
   "outputs": [
    {
     "data": {
      "text/plain": [
       "(10, 101, 3, 4, 3)"
      ]
     },
     "execution_count": 117,
     "metadata": {},
     "output_type": "execute_result"
    }
   ],
   "source": [
    "results['precision'].shape"
   ]
  },
  {
   "cell_type": "code",
   "execution_count": 118,
   "metadata": {},
   "outputs": [
    {
     "data": {
      "text/plain": [
       "(10, 3, 4, 3)"
      ]
     },
     "execution_count": 118,
     "metadata": {},
     "output_type": "execute_result"
    }
   ],
   "source": [
    "results['recall'].shape"
   ]
  },
  {
   "cell_type": "code",
   "execution_count": 134,
   "metadata": {},
   "outputs": [
    {
     "data": {
      "text/plain": [
       "array([1.        , 1.        , 1.        , 1.        , 1.        ,\n",
       "       1.        , 1.        , 1.        , 1.        , 1.        ,\n",
       "       1.        , 1.        , 1.        , 0.875     , 0.875     ,\n",
       "       0.81481481, 0.81481481, 0.81481481, 0.81481481, 0.81481481,\n",
       "       0.81481481, 0.81481481, 0.81481481, 0.81481481, 0.81481481,\n",
       "       0.81481481, 0.81481481, 0.81481481, 0.81481481, 0.81481481,\n",
       "       0.81481481, 0.81481481, 0.81481481, 0.81481481, 0.81481481,\n",
       "       0.81481481, 0.81481481, 0.81481481, 0.81481481, 0.81481481,\n",
       "       0.81481481, 0.81481481, 0.81481481, 0.81481481, 0.81481481,\n",
       "       0.81481481, 0.79310345, 0.79310345, 0.6875    , 0.6875    ,\n",
       "       0.6875    , 0.6875    , 0.6875    , 0.6875    , 0.6875    ,\n",
       "       0.6875    , 0.6875    , 0.6875    , 0.6875    , 0.6875    ,\n",
       "       0.6875    , 0.6875    , 0.6875    , 0.6875    , 0.6875    ,\n",
       "       0.6875    , 0.6875    , 0.6875    , 0.6875    , 0.68      ,\n",
       "       0.68      , 0.67307692, 0.67307692, 0.65454545, 0.65454545,\n",
       "       0.65454545, 0.63793103, 0.63793103, 0.62121212, 0.62121212,\n",
       "       0.62121212, 0.62121212, 0.62121212, 0.62121212, 0.62121212,\n",
       "       0.62121212, 0.60869565, 0.60869565, 0.        , 0.        ,\n",
       "       0.        , 0.        , 0.        , 0.        , 0.        ,\n",
       "       0.        , 0.        , 0.        , 0.        , 0.        ,\n",
       "       0.        ])"
      ]
     },
     "execution_count": 134,
     "metadata": {},
     "output_type": "execute_result"
    }
   ],
   "source": [
    "results['precision'][0,:,0 , 0 , -1]"
   ]
  },
  {
   "cell_type": "code",
   "execution_count": 137,
   "metadata": {},
   "outputs": [
    {
     "data": {
      "text/plain": [
       "0.8615174803501252"
      ]
     },
     "execution_count": 137,
     "metadata": {},
     "output_type": "execute_result"
    }
   ],
   "source": [
    "results['precision'][0,:, :, 0 , -1].mean()"
   ]
  },
  {
   "cell_type": "code",
   "execution_count": 139,
   "metadata": {},
   "outputs": [
    {
     "data": {
      "text/plain": [
       "0.6424428104575164"
      ]
     },
     "execution_count": 139,
     "metadata": {},
     "output_type": "execute_result"
    }
   ],
   "source": [
    "# IoU thrs 0.5 , catids = 0 , area : all , mDets = 1000\n",
    "results['recall'][:, :,0, -1].mean()"
   ]
  },
  {
   "cell_type": "code",
   "execution_count": 133,
   "metadata": {},
   "outputs": [
    {
     "name": "stdout",
     "output_type": "stream",
     "text": [
      " Average Precision  (AP) @[ IoU=0.50:0.95 | area=   all | maxDets=100 ] = 0.559\n",
      " Average Precision  (AP) @[ IoU=0.50      | area=   all | maxDets=100 ] = 0.862\n",
      " Average Precision  (AP) @[ IoU=0.75      | area=   all | maxDets=100 ] = 0.646\n",
      " Average Precision  (AP) @[ IoU=0.50:0.95 | area= small | maxDets=100 ] = 0.353\n",
      " Average Precision  (AP) @[ IoU=0.50:0.95 | area=medium | maxDets=100 ] = 0.256\n",
      " Average Precision  (AP) @[ IoU=0.50:0.95 | area= large | maxDets=100 ] = 0.609\n",
      " Average Recall     (AR) @[ IoU=0.50:0.95 | area=   all | maxDets=  1 ] = 0.622\n",
      " Average Recall     (AR) @[ IoU=0.50:0.95 | area=   all | maxDets= 10 ] = 0.641\n",
      " Average Recall     (AR) @[ IoU=0.50:0.95 | area=   all | maxDets=100 ] = 0.642\n",
      " Average Recall     (AR) @[ IoU=0.50:0.95 | area= small | maxDets=100 ] = 0.350\n",
      " Average Recall     (AR) @[ IoU=0.50:0.95 | area=medium | maxDets=100 ] = 0.386\n",
      " Average Recall     (AR) @[ IoU=0.50:0.95 | area= large | maxDets=100 ] = 0.693\n"
     ]
    }
   ],
   "source": [
    "cocoEval.summarize()"
   ]
  },
  {
   "cell_type": "code",
   "execution_count": 143,
   "metadata": {},
   "outputs": [],
   "source": [
    "x = np.linspace(0 ,1 ,101)\n",
    "y = results['precision'][0,:, 0, 0 , -1]\n"
   ]
  },
  {
   "cell_type": "code",
   "execution_count": 144,
   "metadata": {},
   "outputs": [],
   "source": [
    "import matplotlib.pyplot as plt"
   ]
  },
  {
   "cell_type": "code",
   "execution_count": 152,
   "metadata": {},
   "outputs": [
    {
     "data": {
      "image/png": "[encoded data removed]",
      "text/plain": [
       "<Figure size 640x480 with 1 Axes>"
      ]
     },
     "metadata": {},
     "output_type": "display_data"
    }
   ],
   "source": [
    "x = np.linspace(0 ,1 ,101)\n",
    "y1 = results['precision'][0,:, 0, 0 , -1]\n",
    "y2 = results['precision'][0,:, 1, 0 , -1]\n",
    "y3 = results['precision'][0,:, 2, 0 , -1]\n",
    "plt.plot(x , y1 , label = 'over')\n",
    "plt.plot(x , y2 , label = 'under')\n",
    "plt.plot(x , y3 , label = 'non-welding')\n",
    "plt.xlabel('Recall')\n",
    "plt.ylabel('Precision')\n",
    "plt.legend()\n",
    "plt.show()"
   ]
  },
  {
   "cell_type": "code",
   "execution_count": 654,
   "metadata": {},
   "outputs": [
    {
     "name": "stdout",
     "output_type": "stream",
     "text": [
      "loading annotations into memory...\n",
      "Done (t=0.00s)\n",
      "creating index...\n",
      "index created!\n",
      "Loading and preparing results...\n",
      "DONE (t=0.00s)\n",
      "creating index...\n",
      "index created!\n",
      "Running per image evaluation...\n",
      "Evaluate annotation type *bbox*\n",
      "DONE (t=0.09s).\n",
      "Accumulating evaluation results...\n",
      "DONE (t=0.04s).\n",
      " Average Precision  (AP) @[ IoU=0.50:0.95 | area=   all | maxDets=100 ] = 0.559\n",
      " Average Precision  (AP) @[ IoU=0.50      | area=   all | maxDets=100 ] = 0.862\n",
      " Average Precision  (AP) @[ IoU=0.75      | area=   all | maxDets=100 ] = 0.646\n",
      " Average Precision  (AP) @[ IoU=0.50:0.95 | area= small | maxDets=100 ] = 0.353\n",
      " Average Precision  (AP) @[ IoU=0.50:0.95 | area=medium | maxDets=100 ] = 0.256\n",
      " Average Precision  (AP) @[ IoU=0.50:0.95 | area= large | maxDets=100 ] = 0.609\n",
      " Average Recall     (AR) @[ IoU=0.50:0.95 | area=   all | maxDets=  1 ] = 0.622\n",
      " Average Recall     (AR) @[ IoU=0.50:0.95 | area=   all | maxDets= 10 ] = 0.641\n",
      " Average Recall     (AR) @[ IoU=0.50:0.95 | area=   all | maxDets=100 ] = 0.642\n",
      " Average Recall     (AR) @[ IoU=0.50:0.95 | area= small | maxDets=100 ] = 0.350\n",
      " Average Recall     (AR) @[ IoU=0.50:0.95 | area=medium | maxDets=100 ] = 0.386\n",
      " Average Recall     (AR) @[ IoU=0.50:0.95 | area= large | maxDets=100 ] = 0.693\n"
     ]
    }
   ],
   "source": [
    "from pycocotools.coco import COCO\n",
    "from pycocotools.cocoeval import COCOeval\n",
    "\n",
    "coco_gt = COCO('../info/test.json')\n",
    "coco_pred = coco_gld.loadRes('../mmdetection/result/retinanet_swin-l/result.bbox.json')\n",
    "cocoEval = COCOeval(coco_gt, coco_pred, iouType='bbox')\n",
    "cocoEval.evaluate()\n",
    "cocoEval.accumulate()\n",
    "cocoEval.summarize()"
   ]
  },
  {
   "cell_type": "code",
   "execution_count": 172,
   "metadata": {},
   "outputs": [
    {
     "data": {
      "text/plain": [
       "[{'id': 5,\n",
       "  'category_id': 1,\n",
       "  'bbox': [275, 247, 64, 68],\n",
       "  'image_id': 5,\n",
       "  'area': 4352,\n",
       "  'iscrowd': 0}]"
      ]
     },
     "execution_count": 172,
     "metadata": {},
     "output_type": "execute_result"
    }
   ],
   "source": [
    "coco.loadAnns(coco_gt.getAnnIds(imgIds = 5))"
   ]
  },
  {
   "cell_type": "code",
   "execution_count": 181,
   "metadata": {},
   "outputs": [
    {
     "data": {
      "text/plain": [
       "[1, 1, 1, 2, 2, 2, 2]"
      ]
     },
     "execution_count": 181,
     "metadata": {},
     "output_type": "execute_result"
    }
   ],
   "source": [
    "[x['category_id'] for x in coco_pred.loadAnns(coco_pred.getAnnIds(imgIds = 5))]"
   ]
  },
  {
   "cell_type": "code",
   "execution_count": 195,
   "metadata": {},
   "outputs": [
    {
     "data": {
      "text/plain": [
       "array([517.])"
      ]
     },
     "execution_count": 195,
     "metadata": {},
     "output_type": "execute_result"
    }
   ],
   "source": [
    "ground_truth = cocoEval.evaluateImg( imgId  = 5 , catId=1, aRng =[0 , 100000], maxDet = 1000 , )['gtMatches'][0]"
   ]
  },
  {
   "cell_type": "code",
   "execution_count": 188,
   "metadata": {},
   "outputs": [
    {
     "data": {
      "text/plain": [
       "array([5., 0., 0.])"
      ]
     },
     "execution_count": 188,
     "metadata": {},
     "output_type": "execute_result"
    }
   ],
   "source": [
    "predictions = cocoEval.evaluateImg( imgId  = 5 , catId=1, aRng =[0 , 100000], maxDet = 1000)['dtMatches'][0]"
   ]
  },
  {
   "cell_type": "code",
   "execution_count": 200,
   "metadata": {},
   "outputs": [
    {
     "data": {
      "text/plain": [
       "472"
      ]
     },
     "execution_count": 200,
     "metadata": {},
     "output_type": "execute_result"
    }
   ],
   "source": [
    "len(coco_gt.getImgIds())"
   ]
  },
  {
   "cell_type": "code",
   "execution_count": 503,
   "metadata": {},
   "outputs": [
    {
     "name": "stdout",
     "output_type": "stream",
     "text": [
      "0.11965811965811966\n"
     ]
    }
   ],
   "source": [
    "\n",
    "confidence_score = 0\n",
    "prediction_list = []\n",
    "confidence_list = []\n",
    "for img_id in sorted(coco_gt.getImgIds()):\n",
    "    result = cocoEval.evaluateImg( imgId  = img_id , catId=1, aRng =[0 , 100000], maxDet = 1000)\n",
    "    if result:\n",
    "        # 0 idx => IoU thrs 0.5\n",
    "        predictions = result['dtMatches'][0,:] \n",
    "        confidence = result['dtScores']\n",
    "\n",
    "        prediction_list.append(predictions.tolist())\n",
    "        confidence_list.append(confidence)\n",
    "prediction_list = [ y for x in prediction_list for y in x]\n",
    "confidence_list = [ y for x in confidence_list for y in x]\n",
    "data = np.array([prediction_list , confidence_list])\n",
    "data = data[: , data[1,:] >= confidence_score]\n",
    "precision = np.count_nonzero(data[0,:]) / len(data[0,:])\n",
    "print(precision)"
   ]
  },
  {
   "cell_type": "code",
   "execution_count": 504,
   "metadata": {},
   "outputs": [
    {
     "data": {
      "text/plain": [
       "351"
      ]
     },
     "execution_count": 504,
     "metadata": {},
     "output_type": "execute_result"
    }
   ],
   "source": [
    "len(prediction_list)"
   ]
  },
  {
   "cell_type": "code",
   "execution_count": 505,
   "metadata": {},
   "outputs": [
    {
     "data": {
      "text/plain": [
       "619"
      ]
     },
     "execution_count": 505,
     "metadata": {},
     "output_type": "execute_result"
    }
   ],
   "source": [
    "len(coco_pred.getAnnIds())"
   ]
  },
  {
   "cell_type": "code",
   "execution_count": 373,
   "metadata": {},
   "outputs": [
    {
     "data": {
      "text/plain": [
       "0.6410256410256411"
      ]
     },
     "execution_count": 373,
     "metadata": {},
     "output_type": "execute_result"
    }
   ],
   "source": [
    "np.count_nonzero(data[0,:]) / len(data[0,:])"
   ]
  },
  {
   "cell_type": "code",
   "execution_count": 336,
   "metadata": {},
   "outputs": [
    {
     "data": {
      "text/plain": [
       "[[],\n",
       " [],\n",
       " [5.0, 0.0, 0.0],\n",
       " [0.8735492825508118, 0.11685810983181, 0.07602743059396744],\n",
       " [9.0, 0.0],\n",
       " [0.3545074462890625, 0.05374220758676529],\n",
       " [0.0, 0.0, 0.0, 0.0, 0.0, 0.0],\n",
       " [0.5275458097457886,\n",
       "  0.12779046595096588,\n",
       "  0.09455588459968567,\n",
       "  0.08132509887218475,\n",
       "  0.07176046818494797,\n",
       "  0.06212059408426285],\n",
       " [14.0, 15.0, 0.0, 0.0, 0.0, 0.0, 0.0],\n",
       " [0.8540156483650208,\n",
       "  0.5679337978363037,\n",
       "  0.2725614905357361,\n",
       "  0.1974586695432663,\n",
       "  0.158560648560524,\n",
       "  0.14977291226387024,\n",
       "  0.06323748826980591],\n",
       " [0.0, 0.0, 0.0],\n",
       " [0.5742239952087402, 0.16144630312919617, 0.09747128188610077],\n",
       " [0.0],\n",
       " [0.10181689262390137],\n",
       " [30.0],\n",
       " [0.5804053544998169],\n",
       " [0.0, 0.0],\n",
       " [0.2250528186559677, 0.05057957395911217],\n",
       " [55.0, 0.0, 0.0, 0.0, 0.0, 0.0, 0.0],\n",
       " [0.44662150740623474,\n",
       "  0.2044558972120285,\n",
       "  0.14901220798492432,\n",
       "  0.11860290914773941,\n",
       "  0.08162694424390793,\n",
       "  0.060849085450172424,\n",
       "  0.05782020464539528],\n",
       " [62.0, 0.0],\n",
       " [0.2856248915195465, 0.05922086536884308],\n",
       " [0.0],\n",
       " [0.08675278723239899],\n",
       " [0.0],\n",
       " [0.08674001693725586],\n",
       " [0.0],\n",
       " [0.06866824626922607],\n",
       " [0.0],\n",
       " [0.10815498232841492],\n",
       " [79.0, 0.0, 0.0],\n",
       " [0.9255968928337097, 0.11875096708536148, 0.06200332194566727],\n",
       " [0.0],\n",
       " [0.0764661654829979],\n",
       " [0.0, 0.0, 0.0, 0.0, 0.0, 0.0],\n",
       " [0.29479098320007324,\n",
       "  0.13628935813903809,\n",
       "  0.11140044033527374,\n",
       "  0.06218485161662102,\n",
       "  0.056982580572366714,\n",
       "  0.051305435597896576],\n",
       " [0.0, 0.0, 0.0, 0.0, 0.0, 0.0, 0.0, 0.0, 0.0],\n",
       " [0.2576545476913452,\n",
       "  0.15325556695461273,\n",
       "  0.13199982047080994,\n",
       "  0.13003256916999817,\n",
       "  0.08235351741313934,\n",
       "  0.07247540354728699,\n",
       "  0.06326781213283539,\n",
       "  0.055967651307582855,\n",
       "  0.05581865459680557],\n",
       " [95.0, 0.0, 0.0],\n",
       " [0.294647753238678, 0.08669430017471313, 0.05609498172998428],\n",
       " [0.0, 101.0, 0.0, 0.0, 0.0, 0.0, 0.0, 0.0, 0.0],\n",
       " [0.8565564155578613,\n",
       "  0.4804544150829315,\n",
       "  0.418300986289978,\n",
       "  0.15605612099170685,\n",
       "  0.11846911162137985,\n",
       "  0.10315386950969696,\n",
       "  0.10177755355834961,\n",
       "  0.06055843085050583,\n",
       "  0.06005183979868889],\n",
       " [103.0, 0.0, 0.0, 0.0, 0.0],\n",
       " [0.9274449348449707,\n",
       "  0.11741812527179718,\n",
       "  0.05805981159210205,\n",
       "  0.05725002661347389,\n",
       "  0.054247304797172546],\n",
       " [0.0],\n",
       " [0.07187125831842422],\n",
       " [0.0],\n",
       " [0.10646341741085052],\n",
       " [111.0, 0.0],\n",
       " [0.739836573600769, 0.083175428211689],\n",
       " [0.0],\n",
       " [0.1026807501912117],\n",
       " [125.0],\n",
       " [0.42685264348983765],\n",
       " [],\n",
       " [],\n",
       " [0.0],\n",
       " [0.05513985455036163],\n",
       " [142.0, 0.0, 0.0, 0.0, 0.0],\n",
       " [0.42081910371780396,\n",
       "  0.12213105708360672,\n",
       "  0.0662664994597435,\n",
       "  0.05547252297401428,\n",
       "  0.05009721219539642],\n",
       " [151.0],\n",
       " [0.8255372643470764],\n",
       " [153.0],\n",
       " [0.26600149273872375],\n",
       " [0.0],\n",
       " [0.11970898509025574],\n",
       " [178.0, 0.0, 0.0, 0.0, 0.0, 0.0],\n",
       " [0.8361117243766785,\n",
       "  0.14453954994678497,\n",
       "  0.08520080149173737,\n",
       "  0.07019839435815811,\n",
       "  0.06977196037769318,\n",
       "  0.06342258304357529],\n",
       " [179.0, 0.0, 0.0, 0.0, 0.0, 0.0, 0.0],\n",
       " [0.9007136225700378,\n",
       "  0.20109009742736816,\n",
       "  0.16058307886123657,\n",
       "  0.13581956923007965,\n",
       "  0.07289788872003555,\n",
       "  0.06923534721136093,\n",
       "  0.05498293414711952],\n",
       " [181.0, 0.0, 0.0, 0.0, 0.0],\n",
       " [0.4843449294567108,\n",
       "  0.09390604496002197,\n",
       "  0.05875490605831146,\n",
       "  0.058408770710229874,\n",
       "  0.05105789378285408],\n",
       " [0.0, 0.0],\n",
       " [0.11463738232851028, 0.05862695351243019],\n",
       " [185.0, 0.0, 0.0, 0.0, 0.0],\n",
       " [0.7430934309959412,\n",
       "  0.33290034532546997,\n",
       "  0.26637035608291626,\n",
       "  0.12438272684812546,\n",
       "  0.0768568217754364],\n",
       " [0.0],\n",
       " [0.09583370387554169],\n",
       " [0.0, 0.0, 0.0, 0.0, 0.0, 0.0, 0.0, 0.0],\n",
       " [0.19893516600131989,\n",
       "  0.11003672331571579,\n",
       "  0.0718584731221199,\n",
       "  0.057997364550828934,\n",
       "  0.05692677944898605,\n",
       "  0.05261429026722908,\n",
       "  0.05241422727704048,\n",
       "  0.05024819076061249],\n",
       " [0.0],\n",
       " [0.12049774825572968],\n",
       " [203.0, 0.0],\n",
       " [0.7532389163970947, 0.13313055038452148],\n",
       " [0.0, 0.0, 0.0, 0.0, 0.0, 0.0, 0.0],\n",
       " [0.21336792409420013,\n",
       "  0.1362781971693039,\n",
       "  0.08427319675683975,\n",
       "  0.08040138334035873,\n",
       "  0.06868673115968704,\n",
       "  0.05920066311955452,\n",
       "  0.05397818610072136],\n",
       " [0.0],\n",
       " [0.09273800998926163],\n",
       " [223.0, 0.0, 0.0, 0.0, 0.0, 0.0, 0.0, 0.0, 0.0, 0.0, 0.0, 0.0, 0.0],\n",
       " [0.38554126024246216,\n",
       "  0.20192131400108337,\n",
       "  0.18990324437618256,\n",
       "  0.17192304134368896,\n",
       "  0.15734513103961945,\n",
       "  0.12641124427318573,\n",
       "  0.09191703796386719,\n",
       "  0.08558756113052368,\n",
       "  0.072795070707798,\n",
       "  0.06922569125890732,\n",
       "  0.0641927719116211,\n",
       "  0.05379532650113106,\n",
       "  0.05177196487784386],\n",
       " [227.0, 0.0, 0.0, 0.0, 0.0],\n",
       " [0.6962726712226868,\n",
       "  0.0940091460943222,\n",
       "  0.07639598846435547,\n",
       "  0.06280290335416794,\n",
       "  0.05574736371636391],\n",
       " [237.0, 0.0, 0.0, 0.0, 0.0, 0.0, 0.0],\n",
       " [0.44261932373046875,\n",
       "  0.17596866190433502,\n",
       "  0.12196655571460724,\n",
       "  0.10712598264217377,\n",
       "  0.1045834869146347,\n",
       "  0.08212984353303909,\n",
       "  0.07310671359300613],\n",
       " [248.0, 0.0, 0.0],\n",
       " [0.9095621705055237, 0.07196473330259323, 0.05966677516698837],\n",
       " [0.0],\n",
       " [0.09492141753435135],\n",
       " [0.0],\n",
       " [0.05876447260379791],\n",
       " [0.0, 0.0, 0.0],\n",
       " [0.3325052857398987, 0.08378098905086517, 0.055374518036842346],\n",
       " [0.0],\n",
       " [0.09505098313093185],\n",
       " [278.0, 0.0, 0.0, 0.0, 0.0, 0.0, 0.0, 0.0, 0.0, 0.0, 0.0],\n",
       " [0.7672389149665833,\n",
       "  0.16517697274684906,\n",
       "  0.13923345506191254,\n",
       "  0.13073162734508514,\n",
       "  0.08497979491949081,\n",
       "  0.06828644126653671,\n",
       "  0.062342699617147446,\n",
       "  0.06222313269972801,\n",
       "  0.06192462518811226,\n",
       "  0.05769113823771477,\n",
       "  0.05223289877176285],\n",
       " [295.0, 0.0, 0.0, 0.0],\n",
       " [0.7234243154525757,\n",
       "  0.12755320966243744,\n",
       "  0.09217455983161926,\n",
       "  0.0756053552031517],\n",
       " [0.0, 0.0, 0.0, 0.0],\n",
       " [0.31779640913009644,\n",
       "  0.15609532594680786,\n",
       "  0.07078171521425247,\n",
       "  0.055473074316978455],\n",
       " [0.0, 0.0],\n",
       " [0.17212270200252533, 0.06057599186897278],\n",
       " [299.0, 0.0, 0.0, 0.0],\n",
       " [0.8635929822921753,\n",
       "  0.1058700755238533,\n",
       "  0.09999403357505798,\n",
       "  0.05072912573814392],\n",
       " [305.0, 0.0, 0.0, 0.0],\n",
       " [0.2887134253978729,\n",
       "  0.25415048003196716,\n",
       "  0.06155690178275108,\n",
       "  0.05222932621836662],\n",
       " [310.0],\n",
       " [0.6547718048095703],\n",
       " [0.0, 311.0, 0.0, 0.0, 0.0, 0.0],\n",
       " [0.7896959781646729,\n",
       "  0.283392995595932,\n",
       "  0.16205336153507233,\n",
       "  0.07989007234573364,\n",
       "  0.06755057722330093,\n",
       "  0.05019419640302658],\n",
       " [0.0],\n",
       " [0.06001385673880577],\n",
       " [319.0, 0.0, 0.0, 0.0, 0.0, 0.0],\n",
       " [0.6682901382446289,\n",
       "  0.17438748478889465,\n",
       "  0.10230042040348053,\n",
       "  0.07931938767433167,\n",
       "  0.055770143866539,\n",
       "  0.05017761513590813],\n",
       " [324.0, 0.0, 0.0, 0.0, 0.0],\n",
       " [0.6879740953445435,\n",
       "  0.38077253103256226,\n",
       "  0.17326655983924866,\n",
       "  0.10859911888837814,\n",
       "  0.0869300439953804],\n",
       " [330.0],\n",
       " [0.48876652121543884],\n",
       " [333.0],\n",
       " [0.8067533373832703],\n",
       " [342.0, 0.0, 0.0, 0.0],\n",
       " [0.6801550984382629,\n",
       "  0.12341958284378052,\n",
       "  0.06671614944934845,\n",
       "  0.058004844933748245],\n",
       " [0.0],\n",
       " [0.10836433619260788],\n",
       " [0.0],\n",
       " [0.10548125952482224],\n",
       " [0.0],\n",
       " [0.07993663102388382],\n",
       " [364.0],\n",
       " [0.4501761794090271],\n",
       " [372.0, 0.0, 0.0, 0.0, 0.0, 0.0, 0.0],\n",
       " [0.840630054473877,\n",
       "  0.3704580068588257,\n",
       "  0.25067535042762756,\n",
       "  0.1297859400510788,\n",
       "  0.07380757480859756,\n",
       "  0.06196087226271629,\n",
       "  0.05695365369319916],\n",
       " [0.0],\n",
       " [0.0869923084974289],\n",
       " [0.0],\n",
       " [0.10385935753583908],\n",
       " [0.0, 379.0, 0.0, 0.0, 0.0, 0.0, 0.0, 0.0, 0.0, 0.0, 0.0],\n",
       " [0.6184111833572388,\n",
       "  0.47465842962265015,\n",
       "  0.26165875792503357,\n",
       "  0.10718147456645966,\n",
       "  0.10291306674480438,\n",
       "  0.10074616223573685,\n",
       "  0.0845535472035408,\n",
       "  0.08013873547315598,\n",
       "  0.05852978676557541,\n",
       "  0.05772780254483223,\n",
       "  0.050240159034729004],\n",
       " [380.0, 0.0, 0.0],\n",
       " [0.8347926139831543, 0.07717550545930862, 0.06283779442310333],\n",
       " [391.0, 0.0, 0.0],\n",
       " [0.3185636103153229, 0.10534282773733139, 0.07567224651575089],\n",
       " [396.0, 0.0, 0.0, 0.0, 0.0, 0.0, 0.0, 0.0, 0.0, 0.0, 0.0],\n",
       " [0.8072994947433472,\n",
       "  0.6539124250411987,\n",
       "  0.5916037559509277,\n",
       "  0.20657293498516083,\n",
       "  0.14674502611160278,\n",
       "  0.12178725749254227,\n",
       "  0.1114874854683876,\n",
       "  0.0902349129319191,\n",
       "  0.08297678828239441,\n",
       "  0.07471104711294174,\n",
       "  0.053790152072906494],\n",
       " [0.0, 0.0],\n",
       " [0.8534322381019592, 0.0964464545249939],\n",
       " [0.0],\n",
       " [0.07263114303350449],\n",
       " [0.0],\n",
       " [0.07392247021198273],\n",
       " [0.0],\n",
       " [0.06413142383098602],\n",
       " [0.0],\n",
       " [0.08848803490400314],\n",
       " [0.0, 0.0],\n",
       " [0.07226014882326126, 0.06488007307052612],\n",
       " [0.0, 0.0, 0.0, 0.0, 0.0, 0.0, 0.0, 0.0, 0.0, 0.0, 0.0],\n",
       " [0.21741804480552673,\n",
       "  0.10994160920381546,\n",
       "  0.10869073867797852,\n",
       "  0.10649855434894562,\n",
       "  0.09146906435489655,\n",
       "  0.06968563050031662,\n",
       "  0.06957422196865082,\n",
       "  0.06609537452459335,\n",
       "  0.06521850824356079,\n",
       "  0.06006772071123123,\n",
       "  0.052152346819639206],\n",
       " [0.0, 0.0],\n",
       " [0.5557872653007507, 0.07412399351596832],\n",
       " [0.0],\n",
       " [0.0883994922041893],\n",
       " [0.0, 0.0, 0.0, 0.0, 0.0],\n",
       " [0.42600172758102417,\n",
       "  0.07271592319011688,\n",
       "  0.06630782783031464,\n",
       "  0.06571634858846664,\n",
       "  0.054975006729364395],\n",
       " [0.0, 0.0],\n",
       " [0.29495981335639954, 0.060912251472473145],\n",
       " [0.0, 0.0, 0.0, 0.0, 0.0],\n",
       " [0.308292418718338,\n",
       "  0.10681010037660599,\n",
       "  0.07163786143064499,\n",
       "  0.06011968106031418,\n",
       "  0.053789183497428894],\n",
       " [0.0, 0.0, 0.0, 0.0, 0.0, 0.0, 0.0, 0.0],\n",
       " [0.22782669961452484,\n",
       "  0.15820980072021484,\n",
       "  0.13784968852996826,\n",
       "  0.10655335336923599,\n",
       "  0.09603367745876312,\n",
       "  0.06907845288515091,\n",
       "  0.055267516523599625,\n",
       "  0.05245320126414299],\n",
       " [0.0, 0.0],\n",
       " [0.07602093368768692, 0.06754296272993088],\n",
       " [0.0, 0.0, 0.0],\n",
       " [0.11867028474807739, 0.07322106510400772, 0.05679433047771454],\n",
       " [0.0, 0.0, 0.0, 0.0, 0.0, 0.0, 0.0],\n",
       " [0.8497419953346252,\n",
       "  0.14671987295150757,\n",
       "  0.11357387155294418,\n",
       "  0.06498268246650696,\n",
       "  0.06085607036948204,\n",
       "  0.0553550198674202,\n",
       "  0.05035121738910675],\n",
       " [0.0],\n",
       " [0.06573250144720078],\n",
       " [0.0, 0.0],\n",
       " [0.07400143891572952, 0.070600226521492],\n",
       " [0.0],\n",
       " [0.10172613710165024],\n",
       " [0.0, 0.0],\n",
       " [0.608709990978241, 0.09929094463586807],\n",
       " [0.0, 0.0, 0.0, 0.0],\n",
       " [0.4476708769798279,\n",
       "  0.08885086327791214,\n",
       "  0.07375919818878174,\n",
       "  0.05658874660730362],\n",
       " [0.0],\n",
       " [0.06966758519411087],\n",
       " [0.0],\n",
       " [0.052287206053733826],\n",
       " [0.0],\n",
       " [0.08541517704725266],\n",
       " [0.0, 0.0, 0.0],\n",
       " [0.08281461149454117, 0.07664886116981506, 0.0571475550532341],\n",
       " [0.0, 0.0],\n",
       " [0.6494691967964172, 0.05469346418976784],\n",
       " [0.0],\n",
       " [0.21037961542606354],\n",
       " [0.0],\n",
       " [0.0754120722413063],\n",
       " [0.0, 0.0, 0.0],\n",
       " [0.25691941380500793, 0.08862298727035522, 0.052152615040540695],\n",
       " [0.0, 0.0, 0.0, 0.0],\n",
       " [0.6557387113571167,\n",
       "  0.07920060306787491,\n",
       "  0.06845805048942566,\n",
       "  0.0543786883354187],\n",
       " [0.0],\n",
       " [0.8059273958206177],\n",
       " [0.0],\n",
       " [0.06529442220926285],\n",
       " [0.0],\n",
       " [0.05871451646089554],\n",
       " [0.0, 0.0, 0.0, 0.0],\n",
       " [0.20295558869838715,\n",
       "  0.06652180105447769,\n",
       "  0.06574326753616333,\n",
       "  0.0574222132563591]]"
      ]
     },
     "execution_count": 336,
     "metadata": {},
     "output_type": "execute_result"
    }
   ],
   "source": [
    "pred"
   ]
  },
  {
   "cell_type": "code",
   "execution_count": 321,
   "metadata": {},
   "outputs": [],
   "source": [
    "results = cocoEval.evaluateImg( imgId  = 5 , catId=1, aRng =[0 , 100000], maxDet = 1000)"
   ]
  },
  {
   "cell_type": "code",
   "execution_count": 327,
   "metadata": {},
   "outputs": [
    {
     "data": {
      "text/plain": [
       "array([5.        , 0.        , 0.        , 0.87354928, 0.11685811,\n",
       "       0.07602743])"
      ]
     },
     "execution_count": 327,
     "metadata": {},
     "output_type": "execute_result"
    }
   ],
   "source": [
    "np.append(results['dtMatches'][0 , :] , results['dtScores'])"
   ]
  },
  {
   "cell_type": "code",
   "execution_count": 334,
   "metadata": {},
   "outputs": [
    {
     "data": {
      "text/plain": [
       "array([[5.        , 0.        , 0.        ],\n",
       "       [0.87354928, 0.11685811, 0.07602743]])"
      ]
     },
     "execution_count": 334,
     "metadata": {},
     "output_type": "execute_result"
    }
   ],
   "source": [
    "np.concatenate( [[results['dtMatches'][0 , :]], [results['dtScores']]] , axis = 0)"
   ]
  },
  {
   "cell_type": "code",
   "execution_count": 739,
   "metadata": {},
   "outputs": [],
   "source": [
    "def get_conf_list(result):\n",
    "    conf_list = []\n",
    "    for idx in result['gtMatches'][0,:]:\n",
    "        if idx == 0:\n",
    "            conf_list.append(0)\n",
    "        else:\n",
    "            gt_idx = np.where(result['dtIds'] == idx)\n",
    "            conf_list.append(float(np.array(result['dtScores'])[gt_idx]))\n",
    "    return conf_list"
   ]
  },
  {
   "cell_type": "code",
   "execution_count": 524,
   "metadata": {},
   "outputs": [
    {
     "name": "stdout",
     "output_type": "stream",
     "text": [
      "1.0\n"
     ]
    }
   ],
   "source": [
    "\n",
    "confidence_score = 0\n",
    "truth_list = []\n",
    "confidence_list = []\n",
    "for img_id in sorted(coco_gt.getImgIds()):\n",
    "    result = cocoEval.evaluateImg( imgId  = img_id , catId=3, aRng =[0 , 100000], maxDet = 1000)\n",
    "    if result:\n",
    "        # 0 idx => IoU thrs 0.5\n",
    "        truth = result['gtMatches'][0,:] \n",
    "        confidence = get_conf_list(result)\n",
    "\n",
    "        truth_list.append(truth.tolist())\n",
    "        confidence_list.append(confidence)\n",
    "        \n",
    "truth_list = [ y for x in truth_list for y in x]\n",
    "confidence_list = [ y for x in confidence_list for y in x]\n",
    "\n",
    "data = np.array([truth_list , confidence_list])\n",
    "data = data[: , data[1,:] >= confidence_score]\n",
    "recall = np.count_nonzero(data[0,:]) / len(data[0,:])\n",
    "print(recall)"
   ]
  },
  {
   "cell_type": "code",
   "execution_count": 526,
   "metadata": {},
   "outputs": [
    {
     "data": {
      "text/plain": [
       "85"
      ]
     },
     "execution_count": 526,
     "metadata": {},
     "output_type": "execute_result"
    }
   ],
   "source": [
    "len(coco_gt.getAnnIds())"
   ]
  },
  {
   "cell_type": "code",
   "execution_count": 525,
   "metadata": {},
   "outputs": [
    {
     "data": {
      "text/plain": [
       "3"
      ]
     },
     "execution_count": 525,
     "metadata": {},
     "output_type": "execute_result"
    }
   ],
   "source": [
    "len(truth_list)"
   ]
  },
  {
   "cell_type": "code",
   "execution_count": 518,
   "metadata": {},
   "outputs": [],
   "source": [
    "for img_id in sorted(coco_gt.getImgIds()):\n",
    "    result = cocoEval.evaluateImg( imgId  = img_id , catId=1, aRng =[0 , 100000], maxDet = 1000)\n",
    "    if result:\n",
    "        # 0 idx => IoU thrs 0.5\n",
    "        truth = result['gtMatches'][0,:] \n"
   ]
  },
  {
   "cell_type": "code",
   "execution_count": 515,
   "metadata": {},
   "outputs": [
    {
     "data": {
      "text/plain": [
       "48"
      ]
     },
     "execution_count": 515,
     "metadata": {},
     "output_type": "execute_result"
    }
   ],
   "source": [
    "len(truth_list)"
   ]
  },
  {
   "cell_type": "code",
   "execution_count": 740,
   "metadata": {},
   "outputs": [],
   "source": [
    "conf_score = 0.8\n",
    "def get_conf_list(result):\n",
    "    conf_list = []\n",
    "    for idx in result['gtMatches'][0,:]:\n",
    "        if idx == 0:\n",
    "            conf_list.append(0)\n",
    "        else:\n",
    "            gt_idx = np.where(result['dtIds'] == idx)\n",
    "            conf_list.append(float(np.array(result['dtScores'])[gt_idx]))\n",
    "    return conf_list\n",
    "def get_PR(coco_gt  , cocoEval , conf_score , catId):\n",
    "    pred_list = []\n",
    "    truth_list = []\n",
    "    pred_conf_list = []\n",
    "    truth_conf_list = []\n",
    "    for img_id in sorted(coco_gt.getImgIds()):\n",
    "        result = cocoEval.evaluateImg( imgId  = img_id , catId=catId, aRng =[0 , 100000], maxDet = 1000)\n",
    "        \n",
    "        if result:\n",
    "            # 0 idx => IoU thrs 0.5\n",
    "            pred = result['dtMatches'][0,:] \n",
    "            pred_conf = result['dtScores']\n",
    "\n",
    "            pred_list.append(pred.tolist())\n",
    "            pred_conf_list.append(pred_conf)\n",
    "\n",
    "            truth = result['gtMatches'][0,:] \n",
    "            confidence = get_conf_list(result)\n",
    "\n",
    "            truth_list.append(truth.tolist())\n",
    "            truth_conf_list.append(confidence)\n",
    "\n",
    "    pred_list = [ y for x in pred_list for y in x]\n",
    "    pred_conf_list = [ y for x in pred_conf_list for y in x]\n",
    "\n",
    "    pred_data = np.array([pred_list , pred_conf_list])\n",
    "    pred_data = pred_data[: , pred_data[1,:] >= conf_score]\n",
    "    precision = np.count_nonzero(pred_data[0,:]) / len(pred_data[0,:])\n",
    "\n",
    "    truth_list = [ y for x in truth_list for y in x]\n",
    "    truth_conf_list = [ y for x in truth_conf_list for y in x]\n",
    "\n",
    "    truth_data = np.array([truth_list , truth_conf_list])\n",
    "    truth_data = truth_data[1,:] >= conf_score\n",
    "    recall = np.count_nonzero(truth_data) / len(truth_data)\n",
    "    return precision , recall"
   ]
  },
  {
   "cell_type": "code",
   "execution_count": 745,
   "metadata": {},
   "outputs": [
    {
     "name": "stdout",
     "output_type": "stream",
     "text": [
      "Running per image evaluation...\n",
      "Evaluate annotation type *bbox*\n",
      "DONE (t=0.09s).\n",
      "Accumulating evaluation results...\n",
      "DONE (t=0.04s).\n"
     ]
    },
    {
     "data": {
      "image/png": "[encoded data removed]",
      "text/plain": [
       "<Figure size 640x480 with 1 Axes>"
      ]
     },
     "metadata": {},
     "output_type": "display_data"
    }
   ],
   "source": [
    "cocoEval = COCOeval(coco_gt, coco_pred, iouType='bbox')\n",
    "cocoEval.evaluate()\n",
    "cocoEval.accumulate()\n",
    "\n",
    "for catId in range(1,4):\n",
    "    cat_list = []\n",
    "    p_list = []\n",
    "    r_list = []\n",
    "    for conf in np.linspace(.0, 1, int(np.round((1.00 - .0) / .01)) + 1, endpoint=False) :\n",
    "        try:\n",
    "            p , r = get_PR(coco_gt  , cocoEval, conf , catId=catId)\n",
    "            p_list.append(p)\n",
    "            r_list.append(r)\n",
    "            cat_list.append(catId)\n",
    "        except:\n",
    "            p_list.append(1)\n",
    "            r_list.append(0)\n",
    "            cat_list.append(catId)\n",
    "        plt.plot(r_list , p_list)"
   ]
  },
  {
   "cell_type": "code",
   "execution_count": 744,
   "metadata": {},
   "outputs": [
    {
     "data": {
      "text/plain": [
       "[1.0,\n",
       " 1.0,\n",
       " 1.0,\n",
       " 1.0,\n",
       " 1.0,\n",
       " 1.0,\n",
       " 1.0,\n",
       " 1.0,\n",
       " 1.0,\n",
       " 1.0,\n",
       " 1.0,\n",
       " 1.0,\n",
       " 1.0,\n",
       " 1.0,\n",
       " 1.0,\n",
       " 1.0,\n",
       " 1.0,\n",
       " 1.0,\n",
       " 1.0,\n",
       " 1.0,\n",
       " 1.0,\n",
       " 1.0,\n",
       " 1.0,\n",
       " 1.0,\n",
       " 1.0,\n",
       " 1.0,\n",
       " 1.0,\n",
       " 1.0,\n",
       " 1.0,\n",
       " 1.0,\n",
       " 1.0,\n",
       " 1.0,\n",
       " 1.0,\n",
       " 1.0,\n",
       " 1.0,\n",
       " 1.0,\n",
       " 1.0,\n",
       " 1.0,\n",
       " 1.0,\n",
       " 1.0,\n",
       " 1.0,\n",
       " 1.0,\n",
       " 1.0,\n",
       " 1.0,\n",
       " 1.0,\n",
       " 1.0,\n",
       " 1.0,\n",
       " 1.0,\n",
       " 1.0,\n",
       " 1.0,\n",
       " 1.0,\n",
       " 1.0,\n",
       " 1.0,\n",
       " 1.0,\n",
       " 1.0,\n",
       " 1.0,\n",
       " 1.0,\n",
       " 1.0,\n",
       " 1.0,\n",
       " 1.0,\n",
       " 1.0,\n",
       " 1.0,\n",
       " 1.0,\n",
       " 1.0,\n",
       " 1.0,\n",
       " 1.0,\n",
       " 1.0,\n",
       " 1.0,\n",
       " 1.0,\n",
       " 1.0,\n",
       " 1.0,\n",
       " 1.0,\n",
       " 1.0,\n",
       " 1.0,\n",
       " 1.0,\n",
       " 1.0,\n",
       " 1.0,\n",
       " 1.0,\n",
       " 1.0,\n",
       " 1.0,\n",
       " 1.0,\n",
       " 1.0,\n",
       " 1.0,\n",
       " 1.0,\n",
       " 1.0,\n",
       " 1.0,\n",
       " 1.0,\n",
       " 1.0,\n",
       " 0.6666666666666666,\n",
       " 0.6666666666666666,\n",
       " 0.6666666666666666,\n",
       " 0.3333333333333333]"
      ]
     },
     "execution_count": 744,
     "metadata": {},
     "output_type": "execute_result"
    }
   ],
   "source": [
    "r_list"
   ]
  },
  {
   "cell_type": "code",
   "execution_count": 713,
   "metadata": {},
   "outputs": [],
   "source": [
    "id_to_cat = {x['id'] : x['name'] for x in coco.loadCats(coco.getCatIds())}"
   ]
  },
  {
   "cell_type": "code",
   "execution_count": 716,
   "metadata": {},
   "outputs": [
    {
     "data": {
      "text/plain": [
       "{1: 'over', 2: 'under', 3: 'non-welding'}"
      ]
     },
     "execution_count": 716,
     "metadata": {},
     "output_type": "execute_result"
    }
   ],
   "source": [
    "id_to_cat"
   ]
  },
  {
   "cell_type": "code",
   "execution_count": 718,
   "metadata": {},
   "outputs": [],
   "source": [
    "df = pd.DataFrame({'precision' : p_list , 'recall' : r_list , 'category' : cat_list} )\n",
    "df['category'] = df['category'].apply(lambda x: id_to_cat[x])"
   ]
  },
  {
   "cell_type": "code",
   "execution_count": 722,
   "metadata": {},
   "outputs": [
    {
     "data": {
      "text/plain": [
       "<AxesSubplot:xlabel='recall', ylabel='precision'>"
      ]
     },
     "execution_count": 722,
     "metadata": {},
     "output_type": "execute_result"
    },
    {
     "data": {
      "image/png": "[encoded data removed]",
      "text/plain": [
       "<Figure size 640x480 with 1 Axes>"
      ]
     },
     "metadata": {},
     "output_type": "display_data"
    }
   ],
   "source": [
    "import seaborn as sns\n",
    "sns.lineplot(x = 'recall' , y = 'precision' ,data = df , hue = 'category')"
   ]
  },
  {
   "cell_type": "code",
   "execution_count": 704,
   "metadata": {},
   "outputs": [
    {
     "data": {
      "text/plain": [
       "[<matplotlib.lines.Line2D at 0x7f31c316fc40>]"
      ]
     },
     "execution_count": 704,
     "metadata": {},
     "output_type": "execute_result"
    },
    {
     "data": {
      "image/png": "[encoded data removed]",
      "text/plain": [
       "<Figure size 640x480 with 1 Axes>"
      ]
     },
     "metadata": {},
     "output_type": "display_data"
    }
   ],
   "source": [
    "plt.plot(r_list , p_list)"
   ]
  },
  {
   "cell_type": "code",
   "execution_count": 633,
   "metadata": {},
   "outputs": [
    {
     "data": {
      "text/plain": [
       "<matplotlib.collections.PathCollection at 0x7f31c3745e20>"
      ]
     },
     "execution_count": 633,
     "metadata": {},
     "output_type": "execute_result"
    },
    {
     "data": {
      "image/png": "[encoded data removed]",
      "text/plain": [
       "<Figure size 640x480 with 1 Axes>"
      ]
     },
     "metadata": {},
     "output_type": "display_data"
    }
   ],
   "source": [
    "plt.scatter(p_list , r_list[:])"
   ]
  },
  {
   "cell_type": "code",
   "execution_count": 738,
   "metadata": {},
   "outputs": [
    {
     "name": "stdout",
     "output_type": "stream",
     "text": [
      "0.7647058823529411\n"
     ]
    }
   ],
   "source": [
    "\n",
    "def get_conf_list(result):\n",
    "    conf_list = []\n",
    "    for idx in result['gtMatches'][0,:]:\n",
    "        if idx == 0:\n",
    "            conf_list.append(0)\n",
    "        else:\n",
    "            gt_idx = np.where(result['dtIds'] == idx)\n",
    "            conf_list.append(float(np.array(result['dtScores'])[gt_idx]))\n",
    "    return conf_list\n",
    "    \n",
    "confidence_score = 0.5\n",
    "truth_list = []\n",
    "confidence_list = []\n",
    "for img_id in sorted(coco_gt.getImgIds()):\n",
    "    result = cocoEval.evaluateImg( imgId  = img_id , catId=2, aRng =[0 , 100000], maxDet = 1000)\n",
    "    if result:\n",
    "        # 0 idx => IoU thrs 0.5\n",
    "        truth = result['gtMatches'][0,:] \n",
    "        confidence = get_conf_list(result)\n",
    "\n",
    "        truth_list.append(truth.tolist())\n",
    "        confidence_list.append(confidence)\n",
    "        \n",
    "truth_list = [ y for x in truth_list for y in x]\n",
    "confidence_list = [ y for x in confidence_list for y in x]\n",
    "\n",
    "data = np.array([truth_list , confidence_list])\n",
    "data = data[1,:] >= confidence_score\n",
    "recall = np.count_nonzero(data) / len(data)\n",
    "print(recall)"
   ]
  },
  {
   "cell_type": "code",
   "execution_count": 737,
   "metadata": {},
   "outputs": [
    {
     "data": {
      "text/plain": [
       "0.9036612510681152"
      ]
     },
     "execution_count": 737,
     "metadata": {},
     "output_type": "execute_result"
    }
   ],
   "source": [
    "max(confidence_list)"
   ]
  },
  {
   "cell_type": "code",
   "execution_count": null,
   "metadata": {},
   "outputs": [],
   "source": [
    "def get_conf_list(result):\n",
    "    conf_list = []\n",
    "    for idx in result['gtMatches'][0,:]:\n",
    "        if idx == 0:\n",
    "            conf_list.append(1)\n",
    "        else:\n",
    "            gt_idx = np.where(result['dtIds'] == idx)\n",
    "            conf_list.append(float(np.array(result['dtScores'])[gt_idx]))\n",
    "    return conf_list"
   ]
  },
  {
   "cell_type": "code",
   "execution_count": 731,
   "metadata": {},
   "outputs": [
    {
     "name": "stdout",
     "output_type": "stream",
     "text": [
      "loading annotations into memory...\n",
      "Done (t=0.00s)\n",
      "creating index...\n",
      "index created!\n",
      "Loading and preparing results...\n",
      "DONE (t=0.00s)\n",
      "creating index...\n",
      "index created!\n",
      "Running per image evaluation...\n",
      "Evaluate annotation type *bbox*\n",
      "DONE (t=0.23s).\n",
      "Accumulating evaluation results...\n",
      "DONE (t=0.04s).\n"
     ]
    },
    {
     "data": {
      "text/plain": [
       "{'image_id': 5,\n",
       " 'category_id': 1,\n",
       " 'aRng': [0, 100000],\n",
       " 'maxDet': 1000,\n",
       " 'dtIds': [517, 518, 519],\n",
       " 'gtIds': [5],\n",
       " 'dtMatches': array([[5., 0., 0.],\n",
       "        [5., 0., 0.],\n",
       "        [5., 0., 0.],\n",
       "        [5., 0., 0.],\n",
       "        [5., 0., 0.],\n",
       "        [5., 0., 0.],\n",
       "        [5., 0., 0.],\n",
       "        [0., 0., 0.],\n",
       "        [0., 0., 0.],\n",
       "        [0., 0., 0.]]),\n",
       " 'gtMatches': array([[517.],\n",
       "        [517.],\n",
       "        [517.],\n",
       "        [517.],\n",
       "        [517.],\n",
       "        [517.],\n",
       "        [517.],\n",
       "        [  0.],\n",
       "        [  0.],\n",
       "        [  0.]]),\n",
       " 'dtScores': [0.8735492825508118, 0.11685810983181, 0.07602743059396744],\n",
       " 'gtIgnore': array([0]),\n",
       " 'dtIgnore': array([[False, False, False],\n",
       "        [False, False, False],\n",
       "        [False, False, False],\n",
       "        [False, False, False],\n",
       "        [False, False, False],\n",
       "        [False, False, False],\n",
       "        [False, False, False],\n",
       "        [False, False, False],\n",
       "        [False, False, False],\n",
       "        [False, False, False]])}"
      ]
     },
     "execution_count": 731,
     "metadata": {},
     "output_type": "execute_result"
    }
   ],
   "source": [
    "coco_gld = COCO('../info/test.json')\n",
    "coco_rst = coco_gld.loadRes('../mmdetection/result/retinanet_swin-l/result.bbox.json')\n",
    "cocoEval = COCOeval(coco_gld, coco_rst, iouType='bbox')\n",
    "cocoEval.evaluate()\n",
    "cocoEval.accumulate()\n",
    "# cocoEval.summarize()\n",
    "cocoEval.evaluateImg( imgId  = 5 , catId=1, aRng =[0 , 100000], maxDet = 1000)"
   ]
  },
  {
   "cell_type": "code",
   "execution_count": 641,
   "metadata": {},
   "outputs": [
    {
     "data": {
      "text/plain": [
       "34"
      ]
     },
     "execution_count": 641,
     "metadata": {},
     "output_type": "execute_result"
    }
   ],
   "source": [
    "len(truth_list)"
   ]
  },
  {
   "cell_type": "code",
   "execution_count": 644,
   "metadata": {},
   "outputs": [
    {
     "data": {
      "text/plain": [
       "[0.6817493438720703,\n",
       " 0.8125596046447754,\n",
       " 0.8193249106407166,\n",
       " 0.3350338935852051,\n",
       " 0.6666424870491028,\n",
       " 0.5752280354499817,\n",
       " 0.3966442942619324,\n",
       " 0.8069427609443665,\n",
       " 0.606370210647583,\n",
       " 0.22105799615383148,\n",
       " 0.8189603090286255,\n",
       " 0.8655221462249756,\n",
       " 0.8607237935066223,\n",
       " 0.33420851826667786,\n",
       " 0.8850677013397217,\n",
       " 0.3696485757827759,\n",
       " 0.7963206171989441,\n",
       " 0.7418439388275146,\n",
       " 0.8357021808624268,\n",
       " 0.843212366104126,\n",
       " 0.7626256942749023,\n",
       " 0.5379993915557861,\n",
       " 0.4481239914894104,\n",
       " 0.8600638508796692,\n",
       " 0.7573201656341553,\n",
       " 0.9036612510681152,\n",
       " 0.4377498924732208,\n",
       " 0.6137418746948242,\n",
       " 0.8649479150772095,\n",
       " 0.7510531544685364,\n",
       " 0.6037837266921997,\n",
       " 0.674949049949646,\n",
       " 0.8354804515838623,\n",
       " 0.2410130351781845]"
      ]
     },
     "execution_count": 644,
     "metadata": {},
     "output_type": "execute_result"
    }
   ],
   "source": [
    "confidence_list"
   ]
  },
  {
   "cell_type": "code",
   "execution_count": 643,
   "metadata": {},
   "outputs": [
    {
     "data": {
      "text/plain": [
       "[0.6817493438720703,\n",
       " 0.8125596046447754,\n",
       " 0.8193249106407166,\n",
       " 0.3350338935852051,\n",
       " 0.6666424870491028,\n",
       " 0.5752280354499817,\n",
       " 0.3966442942619324,\n",
       " 0.8069427609443665,\n",
       " 0.606370210647583,\n",
       " 0.22105799615383148,\n",
       " 0.8189603090286255,\n",
       " 0.8655221462249756,\n",
       " 0.8607237935066223,\n",
       " 0.33420851826667786,\n",
       " 0.8850677013397217,\n",
       " 0.3696485757827759,\n",
       " 0.7963206171989441,\n",
       " 0.7418439388275146,\n",
       " 0.8357021808624268,\n",
       " 0.843212366104126,\n",
       " 0.7626256942749023,\n",
       " 0.5379993915557861,\n",
       " 0.4481239914894104,\n",
       " 0.8600638508796692,\n",
       " 0.7573201656341553,\n",
       " 0.9036612510681152,\n",
       " 0.4377498924732208,\n",
       " 0.6137418746948242,\n",
       " 0.8649479150772095,\n",
       " 0.7510531544685364,\n",
       " 0.6037837266921997,\n",
       " 0.674949049949646,\n",
       " 0.8354804515838623,\n",
       " 0.2410130351781845]"
      ]
     },
     "execution_count": 643,
     "metadata": {},
     "output_type": "execute_result"
    }
   ],
   "source": [
    "confidence_list"
   ]
  }
 ],
 "metadata": {
  "kernelspec": {
   "display_name": "openmmlab",
   "language": "python",
   "name": "python3"
  },
  "language_info": {
   "codemirror_mode": {
    "name": "ipython",
    "version": 3
   },
   "file_extension": ".py",
   "mimetype": "text/x-python",
   "name": "python",
   "nbconvert_exporter": "python",
   "pygments_lexer": "ipython3",
   "version": "3.8.13"
  },
  "orig_nbformat": 4,
  "vscode": {
   "interpreter": {
    "hash": "1c3d72f6befbece6777f46293cf4aefc9a1488481f7bfe7e1d49c30006c7994c"
   }
  }
 },
 "nbformat": 4,
 "nbformat_minor": 2
}
