{
 "cells": [
  {
   "cell_type": "code",
   "execution_count": 4,
   "metadata": {},
   "outputs": [],
   "source": [
    "import numpy as np\n",
    "import json\n",
    "import matplotlib.pyplot as plt\n",
    "import pandas as pd\n",
    "from pycocotools.coco import COCO\n",
    "import re\n",
    "import os\n",
    "from pycocotools.coco import COCO\n",
    "from pycocotools.cocoeval import COCOeval"
   ]
  },
  {
   "cell_type": "code",
   "execution_count": 2,
   "metadata": {},
   "outputs": [],
   "source": [
    "with open('../mmdetection/result/retinanet_swin-l/result.bbox.json', 'r') as f:\n",
    "    swin_data = json.load(f)\n",
    "\n",
    "with open('../mmdetection/result/faster_rcnn/result.bbox.json', 'r') as f:\n",
    "    rcnn_data = json.load(f)\n",
    "\n",
    "with open('../yolov7/runs/test/yolov7_640_val2/last_predictions.json', 'r') as f:\n",
    "    yolo_data = json.load(f)"
   ]
  },
  {
   "cell_type": "code",
   "execution_count": 3,
   "metadata": {},
   "outputs": [
    {
     "name": "stdout",
     "output_type": "stream",
     "text": [
      "loading annotations into memory...\n",
      "Done (t=0.00s)\n",
      "creating index...\n",
      "index created!\n"
     ]
    }
   ],
   "source": [
    "coco = COCO('../info/test.json')\n",
    "\n",
    "img_path_to_id = {re.sub('.jpg', '', os.path.basename(\n",
    "    x['file_name'])): x['id'] for x in coco.loadImgs(coco.getImgIds())}\n",
    "\n",
    "for i in range(len(yolo_data)):\n",
    "    yolo_data[i]['image_id'] = img_path_to_id[yolo_data[i]['image_id']]\n",
    "    yolo_data[i]['category_id'] += 1"
   ]
  },
  {
   "cell_type": "code",
   "execution_count": 5,
   "metadata": {},
   "outputs": [
    {
     "name": "stdout",
     "output_type": "stream",
     "text": [
      "loading annotations into memory...\n",
      "Done (t=0.00s)\n",
      "creating index...\n",
      "index created!\n",
      "Loading and preparing results...\n",
      "DONE (t=0.00s)\n",
      "creating index...\n",
      "index created!\n",
      "Running per image evaluation...\n",
      "Evaluate annotation type *bbox*\n",
      "DONE (t=0.05s).\n",
      "Accumulating evaluation results...\n",
      "DONE (t=0.02s).\n",
      " Average Precision  (AP) @[ IoU=0.50:0.95 | area=   all | maxDets=100 ] = 0.559\n",
      " Average Precision  (AP) @[ IoU=0.50      | area=   all | maxDets=100 ] = 0.862\n",
      " Average Precision  (AP) @[ IoU=0.75      | area=   all | maxDets=100 ] = 0.646\n",
      " Average Precision  (AP) @[ IoU=0.50:0.95 | area= small | maxDets=100 ] = 0.353\n",
      " Average Precision  (AP) @[ IoU=0.50:0.95 | area=medium | maxDets=100 ] = 0.256\n",
      " Average Precision  (AP) @[ IoU=0.50:0.95 | area= large | maxDets=100 ] = 0.609\n",
      " Average Recall     (AR) @[ IoU=0.50:0.95 | area=   all | maxDets=  1 ] = 0.622\n",
      " Average Recall     (AR) @[ IoU=0.50:0.95 | area=   all | maxDets= 10 ] = 0.641\n",
      " Average Recall     (AR) @[ IoU=0.50:0.95 | area=   all | maxDets=100 ] = 0.642\n",
      " Average Recall     (AR) @[ IoU=0.50:0.95 | area= small | maxDets=100 ] = 0.350\n",
      " Average Recall     (AR) @[ IoU=0.50:0.95 | area=medium | maxDets=100 ] = 0.386\n",
      " Average Recall     (AR) @[ IoU=0.50:0.95 | area= large | maxDets=100 ] = 0.693\n"
     ]
    }
   ],
   "source": [
    "coco_gld = COCO('../info/test.json')\n",
    "coco_rst = coco_gld.loadRes('../mmdetection/result/retinanet_swin-l/result.bbox.json')\n",
    "cocoEval = COCOeval(coco_gld, coco_rst, iouType='bbox')\n",
    "cocoEval.evaluate()\n",
    "cocoEval.accumulate()\n",
    "cocoEval.summarize()"
   ]
  },
  {
   "cell_type": "code",
   "execution_count": 6,
   "metadata": {},
   "outputs": [
    {
     "data": {
      "image/png": "[encoded data removed]",
      "text/plain": [
       "<Figure size 640x480 with 1 Axes>"
      ]
     },
     "metadata": {},
     "output_type": "display_data"
    }
   ],
   "source": [
    "results = cocoEval.eval\n",
    "\n",
    "x = np.linspace(0 ,1 ,101)\n",
    "y1 = results['precision'][0,:, 0, 0 , -1]\n",
    "y2 = results['precision'][0,:, 1, 0 , -1]\n",
    "y3 = results['precision'][0,:, 2, 0 , -1]\n",
    "plt.plot(x , y1 , label = 'over')\n",
    "plt.plot(x , y2 , label = 'under')\n",
    "plt.plot(x , y3 , label = 'non-welding')\n",
    "plt.xlabel('Recall')\n",
    "plt.ylabel('Precision')\n",
    "plt.legend()\n",
    "plt.show()"
   ]
  },
  {
   "cell_type": "code",
   "execution_count": 7,
   "metadata": {},
   "outputs": [],
   "source": [
    "def get_conf_list(result):\n",
    "    conf_list = []\n",
    "    for idx in result['gtMatches'][0,:]:\n",
    "        if idx == 0:\n",
    "            conf_list.append(0)\n",
    "        else:\n",
    "            gt_idx = np.where(result['dtIds'] == idx)\n",
    "            conf_list.append(float(np.array(result['dtScores'])[gt_idx]))\n",
    "    return conf_list\n",
    "def get_PR(coco_gt  , cocoEval , conf_score , catId):\n",
    "    pred_list = []\n",
    "    truth_list = []\n",
    "    pred_conf_list = []\n",
    "    truth_conf_list = []\n",
    "    for img_id in sorted(coco_gt.getImgIds()):\n",
    "        result = cocoEval.evaluateImg( imgId  = img_id , catId=catId, aRng =[0 , 100000], maxDet = 1000)\n",
    "        \n",
    "        if result:\n",
    "            # 0 idx => IoU thrs 0.5\n",
    "            pred = result['dtMatches'][0,:] \n",
    "            pred_conf = result['dtScores']\n",
    "\n",
    "            pred_list.append(pred.tolist())\n",
    "            pred_conf_list.append(pred_conf)\n",
    "\n",
    "            truth = result['gtMatches'][0,:] \n",
    "            confidence = get_conf_list(result)\n",
    "\n",
    "            truth_list.append(truth.tolist())\n",
    "            truth_conf_list.append(confidence)\n",
    "\n",
    "    pred_list = [ y for x in pred_list for y in x]\n",
    "    pred_conf_list = [ y for x in pred_conf_list for y in x]\n",
    "\n",
    "    pred_data = np.array([pred_list , pred_conf_list])\n",
    "    pred_data = pred_data[: , pred_data[1,:] >= conf_score]\n",
    "    precision = np.count_nonzero(pred_data[0,:]) / len(pred_data[0,:])\n",
    "\n",
    "    truth_list = [ y for x in truth_list for y in x]\n",
    "    truth_conf_list = [ y for x in truth_conf_list for y in x]\n",
    "\n",
    "    truth_data = np.array([truth_list , truth_conf_list])\n",
    "    truth_data = truth_data[1,:] >= conf_score\n",
    "    recall = np.count_nonzero(truth_data) / len(truth_data)\n",
    "    return precision , recall"
   ]
  },
  {
   "cell_type": "code",
   "execution_count": 9,
   "metadata": {},
   "outputs": [
    {
     "name": "stdout",
     "output_type": "stream",
     "text": [
      "loading annotations into memory...\n",
      "Done (t=0.00s)\n",
      "creating index...\n",
      "index created!\n",
      "Loading and preparing results...\n",
      "DONE (t=0.00s)\n",
      "creating index...\n",
      "index created!\n",
      "Running per image evaluation...\n",
      "Evaluate annotation type *bbox*\n",
      "DONE (t=0.05s).\n",
      "Accumulating evaluation results...\n",
      "DONE (t=0.02s).\n"
     ]
    },
    {
     "data": {
      "image/png": "[encoded data removed]",
      "text/plain": [
       "<Figure size 640x480 with 1 Axes>"
      ]
     },
     "metadata": {},
     "output_type": "display_data"
    }
   ],
   "source": [
    "coco_gt = COCO('../info/test.json')\n",
    "coco_pred = coco_gld.loadRes('../mmdetection/result/retinanet_swin-l/result.bbox.json')\n",
    "\n",
    "cocoEval = COCOeval(coco_gt, coco_pred, iouType='bbox')\n",
    "cocoEval.evaluate()\n",
    "cocoEval.accumulate()\n",
    "\n",
    "for catId in range(1,4):\n",
    "    cat_list = []\n",
    "    p_list = []\n",
    "    r_list = []\n",
    "    for conf in np.linspace(.0, 1, int(np.round((1.00 - .0) / .01)) + 1, endpoint=False) :\n",
    "        try:\n",
    "            p , r = get_PR(coco_gt  , cocoEval, conf , catId=catId)\n",
    "            p_list.append(p)\n",
    "            r_list.append(r)\n",
    "            cat_list.append(catId)\n",
    "        except:\n",
    "            p_list.append(1)\n",
    "            r_list.append(0)\n",
    "            cat_list.append(catId)\n",
    "        plt.plot(r_list , p_list)"
   ]
  },
  {
   "cell_type": "code",
   "execution_count": null,
   "metadata": {},
   "outputs": [],
   "source": []
  }
 ],
 "metadata": {
  "kernelspec": {
   "display_name": "openmmlab",
   "language": "python",
   "name": "python3"
  },
  "language_info": {
   "codemirror_mode": {
    "name": "ipython",
    "version": 3
   },
   "file_extension": ".py",
   "mimetype": "text/x-python",
   "name": "python",
   "nbconvert_exporter": "python",
   "pygments_lexer": "ipython3",
   "version": "3.8.13"
  },
  "orig_nbformat": 4,
  "vscode": {
   "interpreter": {
    "hash": "1c3d72f6befbece6777f46293cf4aefc9a1488481f7bfe7e1d49c30006c7994c"
   }
  }
 },
 "nbformat": 4,
 "nbformat_minor": 2
}
