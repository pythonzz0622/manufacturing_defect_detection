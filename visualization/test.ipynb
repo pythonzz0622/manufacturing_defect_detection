{
 "cells": [
  {
   "cell_type": "code",
   "execution_count": 2,
   "metadata": {},
   "outputs": [
    {
     "name": "stdout",
     "output_type": "stream",
     "text": [
      "loading annotations into memory...\n",
      "Done (t=0.00s)\n",
      "creating index...\n",
      "index created!\n",
      " 100% |█████████████████| 472/472 [104.0ms elapsed, 0s remaining, 4.5K samples/s]  \n"
     ]
    }
   ],
   "source": [
    "import fiftyone as fo\n",
    "import glob\n",
    "from pycocotools.coco import COCO\n",
    "\n",
    "# img_list = glob.glob('../dataset/defect/*') +  glob.glob('../dataset/normal/*')\n",
    "# dataset = fo.Dataset.from_images(img_list)\n",
    "\n",
    "coco = COCO('../info/test.json')\n",
    "img_list = ['../dataset/' + anno['file_name'] for anno in coco.loadImgs(coco.getImgIds())]\n",
    "# Create a dataset from a glob pattern of images\n",
    "dataset = fo.Dataset.from_images(img_list)\n",
    "\n",
    "# if __name__==\"__main__\":\n",
    "#     dataset = fo.Dataset.from_images(img_list)\n",
    "#     session = fo.launch_app(dataset , port =5000 , address= \"0.0.0.0\" )\n",
    "#     session.wait()\n",
    "import json\n",
    "img_id = coco.getImgIds()[11]\n",
    "coco.getAnnIds(img_id)\n",
    "coco.loadCats(coco.getCatIds())\n",
    "\n",
    "id_to_cat = {v['id'] : v['name'] for  v in coco.loadCats(coco.getCatIds()) }\n",
    "\n",
    "with open('../mmdetection/result/retinanet_swin-l/result.bbox.json' , 'r') as f:\n",
    "    data = json.load(f)\n",
    "\n",
    "samples = []\n",
    "for img_id in coco.getImgIds():\n",
    "    sample = fo.Sample(filepath= '../dataset/' + coco.loadImgs(img_id)[0]['file_name'])\n",
    "\n",
    "    detections = []\n",
    "    for ann_id in coco.getAnnIds(imgIds = img_id):\n",
    "        obj = coco.loadAnns(ann_id)[0]\n",
    "        label = id_to_cat[obj['category_id']]\n",
    "        bounding_box = obj['bbox']\n",
    "\n",
    "        detections.append(\n",
    "            fo.Detection(label = label , bounding_box = bounding_box)\n",
    "        )\n",
    "\n",
    "    predictions_anno = [data_i for data_i in data if data_i['image_id'] == img_id]\n",
    "    predictions = []\n",
    "    for pred in predictions_anno:\n",
    "        pred['image_id']\n",
    "        pred['bbox']\n",
    "        pred['score']\n",
    "        predictions.append(\n",
    "            fo.Detection(label = id_to_cat[pred['category_id']] , bounding_box = pred['bbox'] , confidence = pred['score'])\n",
    "        )\n",
    "        \n",
    "    if detections:\n",
    "        sample['ground_truth'] = fo.Detections(detections = detections)\n",
    "        samples.append(sample)\n",
    "\n",
    "    if predictions:\n",
    "        sample['prediction'] = fo.Detections(detections = predictions)\n",
    "        samples.append(sample)\n",
    "\n",
    "dataset = fo.Dataset('my-detection-dataset')\n",
    "dataset.add_samples(samples)\n"
   ]
  }
 ],
 "metadata": {
  "kernelspec": {
   "display_name": "openmmlab",
   "language": "python",
   "name": "python3"
  },
  "language_info": {
   "codemirror_mode": {
    "name": "ipython",
    "version": 3
   },
   "file_extension": ".py",
   "mimetype": "text/x-python",
   "name": "python",
   "nbconvert_exporter": "python",
   "pygments_lexer": "ipython3",
   "version": "3.8.13"
  },
  "orig_nbformat": 4,
  "vscode": {
   "interpreter": {
    "hash": "1c3d72f6befbece6777f46293cf4aefc9a1488481f7bfe7e1d49c30006c7994c"
   }
  }
 },
 "nbformat": 4,
 "nbformat_minor": 2
}
