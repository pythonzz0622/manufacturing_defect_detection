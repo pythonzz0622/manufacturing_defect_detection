{
 "cells": [
  {
   "cell_type": "code",
   "execution_count": null,
   "metadata": {},
   "outputs": [],
   "source": []
  }
 ],
 "metadata": {
  "kernelspec": {
   "display_name": "openmmlab",
   "language": "python",
   "name": "python3"
  },
  "language_info": {
   "name": "python",
   "version": "3.8.13"
  },
  "orig_nbformat": 4,
  "vscode": {
   "interpreter": {
    "hash": "1c3d72f6befbece6777f46293cf4aefc9a1488481f7bfe7e1d49c30006c7994c"
   }
  }
 },
 "nbformat": 4,
 "nbformat_minor": 2
}
